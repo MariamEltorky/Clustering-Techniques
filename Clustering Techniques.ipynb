{
 "cells": [
  {
   "cell_type": "code",
   "execution_count": 34,
   "id": "8f683c3f",
   "metadata": {},
   "outputs": [],
   "source": [
    "import warnings\n",
    "warnings.filterwarnings('ignore')\n",
    "\n",
    "import pandas as pd\n",
    "import numpy as np\n",
    "# from plotnine import *\n",
    "\n",
    "from sklearn.preprocessing import StandardScaler\n",
    "from sklearn.neighbors import NearestNeighbors\n",
    "\n",
    "from sklearn.cluster import DBSCAN\n",
    "\n",
    "\n",
    "from sklearn.cluster import KMeans\n",
    "from sklearn.mixture import GaussianMixture\n",
    "\n",
    "from sklearn.metrics import silhouette_score\n",
    "import matplotlib.pyplot as plt\n",
    "\n",
    "%matplotlib inline"
   ]
  },
  {
   "cell_type": "markdown",
   "id": "32fb4ae0",
   "metadata": {},
   "source": [
    "## Load Data"
   ]
  },
  {
   "cell_type": "code",
   "execution_count": 35,
   "id": "63bd9e4a",
   "metadata": {},
   "outputs": [
    {
     "data": {
      "text/html": [
       "<div>\n",
       "<style scoped>\n",
       "    .dataframe tbody tr th:only-of-type {\n",
       "        vertical-align: middle;\n",
       "    }\n",
       "\n",
       "    .dataframe tbody tr th {\n",
       "        vertical-align: top;\n",
       "    }\n",
       "\n",
       "    .dataframe thead th {\n",
       "        text-align: right;\n",
       "    }\n",
       "</style>\n",
       "<table border=\"1\" class=\"dataframe\">\n",
       "  <thead>\n",
       "    <tr style=\"text-align: right;\">\n",
       "      <th></th>\n",
       "      <th>CUST_ID</th>\n",
       "      <th>BALANCE</th>\n",
       "      <th>BALANCE_FREQUENCY</th>\n",
       "      <th>PURCHASES</th>\n",
       "      <th>ONEOFF_PURCHASES</th>\n",
       "      <th>INSTALLMENTS_PURCHASES</th>\n",
       "      <th>CASH_ADVANCE</th>\n",
       "      <th>PURCHASES_FREQUENCY</th>\n",
       "      <th>ONEOFF_PURCHASES_FREQUENCY</th>\n",
       "      <th>PURCHASES_INSTALLMENTS_FREQUENCY</th>\n",
       "      <th>CASH_ADVANCE_FREQUENCY</th>\n",
       "      <th>CASH_ADVANCE_TRX</th>\n",
       "      <th>PURCHASES_TRX</th>\n",
       "      <th>CREDIT_LIMIT</th>\n",
       "      <th>PAYMENTS</th>\n",
       "      <th>MINIMUM_PAYMENTS</th>\n",
       "      <th>PRC_FULL_PAYMENT</th>\n",
       "      <th>TENURE</th>\n",
       "    </tr>\n",
       "  </thead>\n",
       "  <tbody>\n",
       "    <tr>\n",
       "      <th>0</th>\n",
       "      <td>C10001</td>\n",
       "      <td>40.900749</td>\n",
       "      <td>0.818182</td>\n",
       "      <td>95.40</td>\n",
       "      <td>0.00</td>\n",
       "      <td>95.4</td>\n",
       "      <td>0.000000</td>\n",
       "      <td>0.166667</td>\n",
       "      <td>0.000000</td>\n",
       "      <td>0.083333</td>\n",
       "      <td>0.000000</td>\n",
       "      <td>0</td>\n",
       "      <td>2</td>\n",
       "      <td>1000.0</td>\n",
       "      <td>201.802084</td>\n",
       "      <td>139.509787</td>\n",
       "      <td>0.000000</td>\n",
       "      <td>12</td>\n",
       "    </tr>\n",
       "    <tr>\n",
       "      <th>1</th>\n",
       "      <td>C10002</td>\n",
       "      <td>3202.467416</td>\n",
       "      <td>0.909091</td>\n",
       "      <td>0.00</td>\n",
       "      <td>0.00</td>\n",
       "      <td>0.0</td>\n",
       "      <td>6442.945483</td>\n",
       "      <td>0.000000</td>\n",
       "      <td>0.000000</td>\n",
       "      <td>0.000000</td>\n",
       "      <td>0.250000</td>\n",
       "      <td>4</td>\n",
       "      <td>0</td>\n",
       "      <td>7000.0</td>\n",
       "      <td>4103.032597</td>\n",
       "      <td>1072.340217</td>\n",
       "      <td>0.222222</td>\n",
       "      <td>12</td>\n",
       "    </tr>\n",
       "    <tr>\n",
       "      <th>2</th>\n",
       "      <td>C10003</td>\n",
       "      <td>2495.148862</td>\n",
       "      <td>1.000000</td>\n",
       "      <td>773.17</td>\n",
       "      <td>773.17</td>\n",
       "      <td>0.0</td>\n",
       "      <td>0.000000</td>\n",
       "      <td>1.000000</td>\n",
       "      <td>1.000000</td>\n",
       "      <td>0.000000</td>\n",
       "      <td>0.000000</td>\n",
       "      <td>0</td>\n",
       "      <td>12</td>\n",
       "      <td>7500.0</td>\n",
       "      <td>622.066742</td>\n",
       "      <td>627.284787</td>\n",
       "      <td>0.000000</td>\n",
       "      <td>12</td>\n",
       "    </tr>\n",
       "    <tr>\n",
       "      <th>3</th>\n",
       "      <td>C10004</td>\n",
       "      <td>1666.670542</td>\n",
       "      <td>0.636364</td>\n",
       "      <td>1499.00</td>\n",
       "      <td>1499.00</td>\n",
       "      <td>0.0</td>\n",
       "      <td>205.788017</td>\n",
       "      <td>0.083333</td>\n",
       "      <td>0.083333</td>\n",
       "      <td>0.000000</td>\n",
       "      <td>0.083333</td>\n",
       "      <td>1</td>\n",
       "      <td>1</td>\n",
       "      <td>7500.0</td>\n",
       "      <td>0.000000</td>\n",
       "      <td>NaN</td>\n",
       "      <td>0.000000</td>\n",
       "      <td>12</td>\n",
       "    </tr>\n",
       "    <tr>\n",
       "      <th>4</th>\n",
       "      <td>C10005</td>\n",
       "      <td>817.714335</td>\n",
       "      <td>1.000000</td>\n",
       "      <td>16.00</td>\n",
       "      <td>16.00</td>\n",
       "      <td>0.0</td>\n",
       "      <td>0.000000</td>\n",
       "      <td>0.083333</td>\n",
       "      <td>0.083333</td>\n",
       "      <td>0.000000</td>\n",
       "      <td>0.000000</td>\n",
       "      <td>0</td>\n",
       "      <td>1</td>\n",
       "      <td>1200.0</td>\n",
       "      <td>678.334763</td>\n",
       "      <td>244.791237</td>\n",
       "      <td>0.000000</td>\n",
       "      <td>12</td>\n",
       "    </tr>\n",
       "  </tbody>\n",
       "</table>\n",
       "</div>"
      ],
      "text/plain": [
       "  CUST_ID      BALANCE  BALANCE_FREQUENCY  PURCHASES  ONEOFF_PURCHASES  \\\n",
       "0  C10001    40.900749           0.818182      95.40              0.00   \n",
       "1  C10002  3202.467416           0.909091       0.00              0.00   \n",
       "2  C10003  2495.148862           1.000000     773.17            773.17   \n",
       "3  C10004  1666.670542           0.636364    1499.00           1499.00   \n",
       "4  C10005   817.714335           1.000000      16.00             16.00   \n",
       "\n",
       "   INSTALLMENTS_PURCHASES  CASH_ADVANCE  PURCHASES_FREQUENCY  \\\n",
       "0                    95.4      0.000000             0.166667   \n",
       "1                     0.0   6442.945483             0.000000   \n",
       "2                     0.0      0.000000             1.000000   \n",
       "3                     0.0    205.788017             0.083333   \n",
       "4                     0.0      0.000000             0.083333   \n",
       "\n",
       "   ONEOFF_PURCHASES_FREQUENCY  PURCHASES_INSTALLMENTS_FREQUENCY  \\\n",
       "0                    0.000000                          0.083333   \n",
       "1                    0.000000                          0.000000   \n",
       "2                    1.000000                          0.000000   \n",
       "3                    0.083333                          0.000000   \n",
       "4                    0.083333                          0.000000   \n",
       "\n",
       "   CASH_ADVANCE_FREQUENCY  CASH_ADVANCE_TRX  PURCHASES_TRX  CREDIT_LIMIT  \\\n",
       "0                0.000000                 0              2        1000.0   \n",
       "1                0.250000                 4              0        7000.0   \n",
       "2                0.000000                 0             12        7500.0   \n",
       "3                0.083333                 1              1        7500.0   \n",
       "4                0.000000                 0              1        1200.0   \n",
       "\n",
       "      PAYMENTS  MINIMUM_PAYMENTS  PRC_FULL_PAYMENT  TENURE  \n",
       "0   201.802084        139.509787          0.000000      12  \n",
       "1  4103.032597       1072.340217          0.222222      12  \n",
       "2   622.066742        627.284787          0.000000      12  \n",
       "3     0.000000               NaN          0.000000      12  \n",
       "4   678.334763        244.791237          0.000000      12  "
      ]
     },
     "execution_count": 35,
     "metadata": {},
     "output_type": "execute_result"
    }
   ],
   "source": [
    "CC_df = pd.read_csv(\"CC_GENERAL.csv\")\n",
    "CC_df.head()"
   ]
  },
  {
   "cell_type": "markdown",
   "id": "72335a93",
   "metadata": {},
   "source": [
    "## Exploration "
   ]
  },
  {
   "cell_type": "code",
   "execution_count": 36,
   "id": "0adc73bf",
   "metadata": {},
   "outputs": [
    {
     "data": {
      "text/plain": [
       "(8950, 18)"
      ]
     },
     "execution_count": 36,
     "metadata": {},
     "output_type": "execute_result"
    }
   ],
   "source": [
    "CC_df.shape"
   ]
  },
  {
   "cell_type": "code",
   "execution_count": 37,
   "id": "d62f93ac",
   "metadata": {},
   "outputs": [
    {
     "data": {
      "text/plain": [
       "CUST_ID                                  C16838\n",
       "BALANCE                             1299.554504\n",
       "BALANCE_FREQUENCY                           1.0\n",
       "PURCHASES                                   0.0\n",
       "ONEOFF_PURCHASES                            0.0\n",
       "INSTALLMENTS_PURCHASES                      0.0\n",
       "CASH_ADVANCE                        3955.560549\n",
       "PURCHASES_FREQUENCY                         0.0\n",
       "ONEOFF_PURCHASES_FREQUENCY                  0.0\n",
       "PURCHASES_INSTALLMENTS_FREQUENCY            0.0\n",
       "CASH_ADVANCE_FREQUENCY                      0.5\n",
       "CASH_ADVANCE_TRX                             11\n",
       "PURCHASES_TRX                                 0\n",
       "CREDIT_LIMIT                             2500.0\n",
       "PAYMENTS                            2084.109173\n",
       "MINIMUM_PAYMENTS                     267.774368\n",
       "PRC_FULL_PAYMENT                       0.166667\n",
       "TENURE                                        8\n",
       "Name: 6654, dtype: object"
      ]
     },
     "execution_count": 37,
     "metadata": {},
     "output_type": "execute_result"
    }
   ],
   "source": [
    "CC_df.sample(1).iloc[0]"
   ]
  },
  {
   "cell_type": "code",
   "execution_count": 38,
   "id": "27d8c964",
   "metadata": {},
   "outputs": [
    {
     "name": "stdout",
     "output_type": "stream",
     "text": [
      "<class 'pandas.core.frame.DataFrame'>\n",
      "RangeIndex: 8950 entries, 0 to 8949\n",
      "Data columns (total 18 columns):\n",
      " #   Column                            Non-Null Count  Dtype  \n",
      "---  ------                            --------------  -----  \n",
      " 0   CUST_ID                           8950 non-null   object \n",
      " 1   BALANCE                           8950 non-null   float64\n",
      " 2   BALANCE_FREQUENCY                 8950 non-null   float64\n",
      " 3   PURCHASES                         8950 non-null   float64\n",
      " 4   ONEOFF_PURCHASES                  8950 non-null   float64\n",
      " 5   INSTALLMENTS_PURCHASES            8950 non-null   float64\n",
      " 6   CASH_ADVANCE                      8950 non-null   float64\n",
      " 7   PURCHASES_FREQUENCY               8950 non-null   float64\n",
      " 8   ONEOFF_PURCHASES_FREQUENCY        8950 non-null   float64\n",
      " 9   PURCHASES_INSTALLMENTS_FREQUENCY  8950 non-null   float64\n",
      " 10  CASH_ADVANCE_FREQUENCY            8950 non-null   float64\n",
      " 11  CASH_ADVANCE_TRX                  8950 non-null   int64  \n",
      " 12  PURCHASES_TRX                     8950 non-null   int64  \n",
      " 13  CREDIT_LIMIT                      8949 non-null   float64\n",
      " 14  PAYMENTS                          8950 non-null   float64\n",
      " 15  MINIMUM_PAYMENTS                  8637 non-null   float64\n",
      " 16  PRC_FULL_PAYMENT                  8950 non-null   float64\n",
      " 17  TENURE                            8950 non-null   int64  \n",
      "dtypes: float64(14), int64(3), object(1)\n",
      "memory usage: 1.2+ MB\n"
     ]
    }
   ],
   "source": [
    "CC_df.info()"
   ]
  },
  {
   "cell_type": "code",
   "execution_count": 39,
   "id": "434c600f",
   "metadata": {},
   "outputs": [
    {
     "data": {
      "text/html": [
       "<div>\n",
       "<style scoped>\n",
       "    .dataframe tbody tr th:only-of-type {\n",
       "        vertical-align: middle;\n",
       "    }\n",
       "\n",
       "    .dataframe tbody tr th {\n",
       "        vertical-align: top;\n",
       "    }\n",
       "\n",
       "    .dataframe thead th {\n",
       "        text-align: right;\n",
       "    }\n",
       "</style>\n",
       "<table border=\"1\" class=\"dataframe\">\n",
       "  <thead>\n",
       "    <tr style=\"text-align: right;\">\n",
       "      <th></th>\n",
       "      <th>BALANCE</th>\n",
       "      <th>BALANCE_FREQUENCY</th>\n",
       "      <th>PURCHASES</th>\n",
       "      <th>ONEOFF_PURCHASES</th>\n",
       "      <th>INSTALLMENTS_PURCHASES</th>\n",
       "      <th>CASH_ADVANCE</th>\n",
       "      <th>PURCHASES_FREQUENCY</th>\n",
       "      <th>ONEOFF_PURCHASES_FREQUENCY</th>\n",
       "      <th>PURCHASES_INSTALLMENTS_FREQUENCY</th>\n",
       "      <th>CASH_ADVANCE_FREQUENCY</th>\n",
       "      <th>CASH_ADVANCE_TRX</th>\n",
       "      <th>PURCHASES_TRX</th>\n",
       "      <th>CREDIT_LIMIT</th>\n",
       "      <th>PAYMENTS</th>\n",
       "      <th>MINIMUM_PAYMENTS</th>\n",
       "      <th>PRC_FULL_PAYMENT</th>\n",
       "      <th>TENURE</th>\n",
       "    </tr>\n",
       "  </thead>\n",
       "  <tbody>\n",
       "    <tr>\n",
       "      <th>count</th>\n",
       "      <td>8950.000000</td>\n",
       "      <td>8950.000000</td>\n",
       "      <td>8950.000000</td>\n",
       "      <td>8950.000000</td>\n",
       "      <td>8950.000000</td>\n",
       "      <td>8950.000000</td>\n",
       "      <td>8950.000000</td>\n",
       "      <td>8950.000000</td>\n",
       "      <td>8950.000000</td>\n",
       "      <td>8950.000000</td>\n",
       "      <td>8950.000000</td>\n",
       "      <td>8950.000000</td>\n",
       "      <td>8949.000000</td>\n",
       "      <td>8950.000000</td>\n",
       "      <td>8637.000000</td>\n",
       "      <td>8950.000000</td>\n",
       "      <td>8950.000000</td>\n",
       "    </tr>\n",
       "    <tr>\n",
       "      <th>mean</th>\n",
       "      <td>1564.474828</td>\n",
       "      <td>0.877271</td>\n",
       "      <td>1003.204834</td>\n",
       "      <td>592.437371</td>\n",
       "      <td>411.067645</td>\n",
       "      <td>978.871112</td>\n",
       "      <td>0.490351</td>\n",
       "      <td>0.202458</td>\n",
       "      <td>0.364437</td>\n",
       "      <td>0.135144</td>\n",
       "      <td>3.248827</td>\n",
       "      <td>14.709832</td>\n",
       "      <td>4494.449450</td>\n",
       "      <td>1733.143852</td>\n",
       "      <td>864.206542</td>\n",
       "      <td>0.153715</td>\n",
       "      <td>11.517318</td>\n",
       "    </tr>\n",
       "    <tr>\n",
       "      <th>std</th>\n",
       "      <td>2081.531879</td>\n",
       "      <td>0.236904</td>\n",
       "      <td>2136.634782</td>\n",
       "      <td>1659.887917</td>\n",
       "      <td>904.338115</td>\n",
       "      <td>2097.163877</td>\n",
       "      <td>0.401371</td>\n",
       "      <td>0.298336</td>\n",
       "      <td>0.397448</td>\n",
       "      <td>0.200121</td>\n",
       "      <td>6.824647</td>\n",
       "      <td>24.857649</td>\n",
       "      <td>3638.815725</td>\n",
       "      <td>2895.063757</td>\n",
       "      <td>2372.446607</td>\n",
       "      <td>0.292499</td>\n",
       "      <td>1.338331</td>\n",
       "    </tr>\n",
       "    <tr>\n",
       "      <th>min</th>\n",
       "      <td>0.000000</td>\n",
       "      <td>0.000000</td>\n",
       "      <td>0.000000</td>\n",
       "      <td>0.000000</td>\n",
       "      <td>0.000000</td>\n",
       "      <td>0.000000</td>\n",
       "      <td>0.000000</td>\n",
       "      <td>0.000000</td>\n",
       "      <td>0.000000</td>\n",
       "      <td>0.000000</td>\n",
       "      <td>0.000000</td>\n",
       "      <td>0.000000</td>\n",
       "      <td>50.000000</td>\n",
       "      <td>0.000000</td>\n",
       "      <td>0.019163</td>\n",
       "      <td>0.000000</td>\n",
       "      <td>6.000000</td>\n",
       "    </tr>\n",
       "    <tr>\n",
       "      <th>25%</th>\n",
       "      <td>128.281915</td>\n",
       "      <td>0.888889</td>\n",
       "      <td>39.635000</td>\n",
       "      <td>0.000000</td>\n",
       "      <td>0.000000</td>\n",
       "      <td>0.000000</td>\n",
       "      <td>0.083333</td>\n",
       "      <td>0.000000</td>\n",
       "      <td>0.000000</td>\n",
       "      <td>0.000000</td>\n",
       "      <td>0.000000</td>\n",
       "      <td>1.000000</td>\n",
       "      <td>1600.000000</td>\n",
       "      <td>383.276166</td>\n",
       "      <td>169.123707</td>\n",
       "      <td>0.000000</td>\n",
       "      <td>12.000000</td>\n",
       "    </tr>\n",
       "    <tr>\n",
       "      <th>50%</th>\n",
       "      <td>873.385231</td>\n",
       "      <td>1.000000</td>\n",
       "      <td>361.280000</td>\n",
       "      <td>38.000000</td>\n",
       "      <td>89.000000</td>\n",
       "      <td>0.000000</td>\n",
       "      <td>0.500000</td>\n",
       "      <td>0.083333</td>\n",
       "      <td>0.166667</td>\n",
       "      <td>0.000000</td>\n",
       "      <td>0.000000</td>\n",
       "      <td>7.000000</td>\n",
       "      <td>3000.000000</td>\n",
       "      <td>856.901546</td>\n",
       "      <td>312.343947</td>\n",
       "      <td>0.000000</td>\n",
       "      <td>12.000000</td>\n",
       "    </tr>\n",
       "    <tr>\n",
       "      <th>75%</th>\n",
       "      <td>2054.140036</td>\n",
       "      <td>1.000000</td>\n",
       "      <td>1110.130000</td>\n",
       "      <td>577.405000</td>\n",
       "      <td>468.637500</td>\n",
       "      <td>1113.821139</td>\n",
       "      <td>0.916667</td>\n",
       "      <td>0.300000</td>\n",
       "      <td>0.750000</td>\n",
       "      <td>0.222222</td>\n",
       "      <td>4.000000</td>\n",
       "      <td>17.000000</td>\n",
       "      <td>6500.000000</td>\n",
       "      <td>1901.134317</td>\n",
       "      <td>825.485459</td>\n",
       "      <td>0.142857</td>\n",
       "      <td>12.000000</td>\n",
       "    </tr>\n",
       "    <tr>\n",
       "      <th>max</th>\n",
       "      <td>19043.138560</td>\n",
       "      <td>1.000000</td>\n",
       "      <td>49039.570000</td>\n",
       "      <td>40761.250000</td>\n",
       "      <td>22500.000000</td>\n",
       "      <td>47137.211760</td>\n",
       "      <td>1.000000</td>\n",
       "      <td>1.000000</td>\n",
       "      <td>1.000000</td>\n",
       "      <td>1.500000</td>\n",
       "      <td>123.000000</td>\n",
       "      <td>358.000000</td>\n",
       "      <td>30000.000000</td>\n",
       "      <td>50721.483360</td>\n",
       "      <td>76406.207520</td>\n",
       "      <td>1.000000</td>\n",
       "      <td>12.000000</td>\n",
       "    </tr>\n",
       "  </tbody>\n",
       "</table>\n",
       "</div>"
      ],
      "text/plain": [
       "            BALANCE  BALANCE_FREQUENCY     PURCHASES  ONEOFF_PURCHASES  \\\n",
       "count   8950.000000        8950.000000   8950.000000       8950.000000   \n",
       "mean    1564.474828           0.877271   1003.204834        592.437371   \n",
       "std     2081.531879           0.236904   2136.634782       1659.887917   \n",
       "min        0.000000           0.000000      0.000000          0.000000   \n",
       "25%      128.281915           0.888889     39.635000          0.000000   \n",
       "50%      873.385231           1.000000    361.280000         38.000000   \n",
       "75%     2054.140036           1.000000   1110.130000        577.405000   \n",
       "max    19043.138560           1.000000  49039.570000      40761.250000   \n",
       "\n",
       "       INSTALLMENTS_PURCHASES  CASH_ADVANCE  PURCHASES_FREQUENCY  \\\n",
       "count             8950.000000   8950.000000          8950.000000   \n",
       "mean               411.067645    978.871112             0.490351   \n",
       "std                904.338115   2097.163877             0.401371   \n",
       "min                  0.000000      0.000000             0.000000   \n",
       "25%                  0.000000      0.000000             0.083333   \n",
       "50%                 89.000000      0.000000             0.500000   \n",
       "75%                468.637500   1113.821139             0.916667   \n",
       "max              22500.000000  47137.211760             1.000000   \n",
       "\n",
       "       ONEOFF_PURCHASES_FREQUENCY  PURCHASES_INSTALLMENTS_FREQUENCY  \\\n",
       "count                 8950.000000                       8950.000000   \n",
       "mean                     0.202458                          0.364437   \n",
       "std                      0.298336                          0.397448   \n",
       "min                      0.000000                          0.000000   \n",
       "25%                      0.000000                          0.000000   \n",
       "50%                      0.083333                          0.166667   \n",
       "75%                      0.300000                          0.750000   \n",
       "max                      1.000000                          1.000000   \n",
       "\n",
       "       CASH_ADVANCE_FREQUENCY  CASH_ADVANCE_TRX  PURCHASES_TRX  CREDIT_LIMIT  \\\n",
       "count             8950.000000       8950.000000    8950.000000   8949.000000   \n",
       "mean                 0.135144          3.248827      14.709832   4494.449450   \n",
       "std                  0.200121          6.824647      24.857649   3638.815725   \n",
       "min                  0.000000          0.000000       0.000000     50.000000   \n",
       "25%                  0.000000          0.000000       1.000000   1600.000000   \n",
       "50%                  0.000000          0.000000       7.000000   3000.000000   \n",
       "75%                  0.222222          4.000000      17.000000   6500.000000   \n",
       "max                  1.500000        123.000000     358.000000  30000.000000   \n",
       "\n",
       "           PAYMENTS  MINIMUM_PAYMENTS  PRC_FULL_PAYMENT       TENURE  \n",
       "count   8950.000000       8637.000000       8950.000000  8950.000000  \n",
       "mean    1733.143852        864.206542          0.153715    11.517318  \n",
       "std     2895.063757       2372.446607          0.292499     1.338331  \n",
       "min        0.000000          0.019163          0.000000     6.000000  \n",
       "25%      383.276166        169.123707          0.000000    12.000000  \n",
       "50%      856.901546        312.343947          0.000000    12.000000  \n",
       "75%     1901.134317        825.485459          0.142857    12.000000  \n",
       "max    50721.483360      76406.207520          1.000000    12.000000  "
      ]
     },
     "execution_count": 39,
     "metadata": {},
     "output_type": "execute_result"
    }
   ],
   "source": [
    "CC_df.describe()"
   ]
  },
  {
   "cell_type": "markdown",
   "id": "01d865e1",
   "metadata": {},
   "source": [
    "## Preprocessing"
   ]
  },
  {
   "cell_type": "code",
   "execution_count": 40,
   "id": "9de68c03",
   "metadata": {},
   "outputs": [],
   "source": [
    "CC_df.drop(columns='CUST_ID', inplace=True , axis=1)"
   ]
  },
  {
   "cell_type": "code",
   "execution_count": 41,
   "id": "be307ab9",
   "metadata": {},
   "outputs": [
    {
     "data": {
      "text/plain": [
       "0        139.509787\n",
       "1       1072.340217\n",
       "2        627.284787\n",
       "3               NaN\n",
       "4        244.791237\n",
       "           ...     \n",
       "8945      48.886365\n",
       "8946            NaN\n",
       "8947      82.418369\n",
       "8948      55.755628\n",
       "8949      88.288956\n",
       "Name: MINIMUM_PAYMENTS, Length: 8950, dtype: float64"
      ]
     },
     "execution_count": 41,
     "metadata": {},
     "output_type": "execute_result"
    }
   ],
   "source": [
    "CC_df['MINIMUM_PAYMENTS']"
   ]
  },
  {
   "cell_type": "code",
   "execution_count": 42,
   "id": "8a098e18",
   "metadata": {},
   "outputs": [
    {
     "data": {
      "text/plain": [
       "BALANCE                             0.00\n",
       "BALANCE_FREQUENCY                   0.00\n",
       "PURCHASES                           0.00\n",
       "ONEOFF_PURCHASES                    0.00\n",
       "INSTALLMENTS_PURCHASES              0.00\n",
       "CASH_ADVANCE                        0.00\n",
       "PURCHASES_FREQUENCY                 0.00\n",
       "ONEOFF_PURCHASES_FREQUENCY          0.00\n",
       "PURCHASES_INSTALLMENTS_FREQUENCY    0.00\n",
       "CASH_ADVANCE_FREQUENCY              0.00\n",
       "CASH_ADVANCE_TRX                    0.00\n",
       "PURCHASES_TRX                       0.00\n",
       "CREDIT_LIMIT                        0.01\n",
       "PAYMENTS                            0.00\n",
       "MINIMUM_PAYMENTS                    3.50\n",
       "PRC_FULL_PAYMENT                    0.00\n",
       "TENURE                              0.00\n",
       "dtype: float64"
      ]
     },
     "execution_count": 42,
     "metadata": {},
     "output_type": "execute_result"
    }
   ],
   "source": [
    "round(CC_df.isnull().sum(axis=0)*100/CC_df.shape[0],2)"
   ]
  },
  {
   "cell_type": "code",
   "execution_count": 43,
   "id": "24536fd5",
   "metadata": {},
   "outputs": [
    {
     "data": {
      "text/plain": [
       "array([[<AxesSubplot:title={'center':'MINIMUM_PAYMENTS'}>]], dtype=object)"
      ]
     },
     "execution_count": 43,
     "metadata": {},
     "output_type": "execute_result"
    },
    {
     "data": {
      "image/png": "[encoded data removed]",
      "text/plain": [
       "<Figure size 432x288 with 1 Axes>"
      ]
     },
     "metadata": {
      "needs_background": "light"
     },
     "output_type": "display_data"
    }
   ],
   "source": [
    "CC_df.hist(column=\"MINIMUM_PAYMENTS\")"
   ]
  },
  {
   "cell_type": "code",
   "execution_count": 44,
   "id": "c28661f3",
   "metadata": {},
   "outputs": [],
   "source": [
    "CC_df['MINIMUM_PAYMENTS'] = CC_df['MINIMUM_PAYMENTS'].fillna(CC_df['MINIMUM_PAYMENTS'].median())"
   ]
  },
  {
   "cell_type": "code",
   "execution_count": 45,
   "id": "ed83c7f2",
   "metadata": {},
   "outputs": [
    {
     "data": {
      "text/plain": [
       "BALANCE                             0.00\n",
       "BALANCE_FREQUENCY                   0.00\n",
       "PURCHASES                           0.00\n",
       "ONEOFF_PURCHASES                    0.00\n",
       "INSTALLMENTS_PURCHASES              0.00\n",
       "CASH_ADVANCE                        0.00\n",
       "PURCHASES_FREQUENCY                 0.00\n",
       "ONEOFF_PURCHASES_FREQUENCY          0.00\n",
       "PURCHASES_INSTALLMENTS_FREQUENCY    0.00\n",
       "CASH_ADVANCE_FREQUENCY              0.00\n",
       "CASH_ADVANCE_TRX                    0.00\n",
       "PURCHASES_TRX                       0.00\n",
       "CREDIT_LIMIT                        0.01\n",
       "PAYMENTS                            0.00\n",
       "MINIMUM_PAYMENTS                    0.00\n",
       "PRC_FULL_PAYMENT                    0.00\n",
       "TENURE                              0.00\n",
       "dtype: float64"
      ]
     },
     "execution_count": 45,
     "metadata": {},
     "output_type": "execute_result"
    }
   ],
   "source": [
    "round(CC_df.isnull().sum(axis=0)*100/CC_df.shape[0],2)"
   ]
  },
  {
   "cell_type": "code",
   "execution_count": 46,
   "id": "b94e58f9",
   "metadata": {},
   "outputs": [
    {
     "data": {
      "text/plain": [
       "0        139.509787\n",
       "1       1072.340217\n",
       "2        627.284787\n",
       "3        312.343947\n",
       "4        244.791237\n",
       "           ...     \n",
       "8945      48.886365\n",
       "8946     312.343947\n",
       "8947      82.418369\n",
       "8948      55.755628\n",
       "8949      88.288956\n",
       "Name: MINIMUM_PAYMENTS, Length: 8950, dtype: float64"
      ]
     },
     "execution_count": 46,
     "metadata": {},
     "output_type": "execute_result"
    }
   ],
   "source": [
    "CC_df['MINIMUM_PAYMENTS']"
   ]
  },
  {
   "cell_type": "code",
   "execution_count": 47,
   "id": "85ae2fde",
   "metadata": {},
   "outputs": [
    {
     "name": "stdout",
     "output_type": "stream",
     "text": [
      "<class 'pandas.core.frame.DataFrame'>\n",
      "RangeIndex: 8950 entries, 0 to 8949\n",
      "Data columns (total 17 columns):\n",
      " #   Column                            Non-Null Count  Dtype  \n",
      "---  ------                            --------------  -----  \n",
      " 0   BALANCE                           8950 non-null   float64\n",
      " 1   BALANCE_FREQUENCY                 8950 non-null   float64\n",
      " 2   PURCHASES                         8950 non-null   float64\n",
      " 3   ONEOFF_PURCHASES                  8950 non-null   float64\n",
      " 4   INSTALLMENTS_PURCHASES            8950 non-null   float64\n",
      " 5   CASH_ADVANCE                      8950 non-null   float64\n",
      " 6   PURCHASES_FREQUENCY               8950 non-null   float64\n",
      " 7   ONEOFF_PURCHASES_FREQUENCY        8950 non-null   float64\n",
      " 8   PURCHASES_INSTALLMENTS_FREQUENCY  8950 non-null   float64\n",
      " 9   CASH_ADVANCE_FREQUENCY            8950 non-null   float64\n",
      " 10  CASH_ADVANCE_TRX                  8950 non-null   int64  \n",
      " 11  PURCHASES_TRX                     8950 non-null   int64  \n",
      " 12  CREDIT_LIMIT                      8949 non-null   float64\n",
      " 13  PAYMENTS                          8950 non-null   float64\n",
      " 14  MINIMUM_PAYMENTS                  8950 non-null   float64\n",
      " 15  PRC_FULL_PAYMENT                  8950 non-null   float64\n",
      " 16  TENURE                            8950 non-null   int64  \n",
      "dtypes: float64(14), int64(3)\n",
      "memory usage: 1.2 MB\n"
     ]
    }
   ],
   "source": [
    "CC_df.info()"
   ]
  },
  {
   "cell_type": "code",
   "execution_count": 48,
   "id": "c11d65c9",
   "metadata": {},
   "outputs": [
    {
     "data": {
      "text/plain": [
       "array([[<AxesSubplot:title={'center':'CREDIT_LIMIT'}>]], dtype=object)"
      ]
     },
     "execution_count": 48,
     "metadata": {},
     "output_type": "execute_result"
    },
    {
     "data": {
      "image/png": "[encoded data removed]",
      "text/plain": [
       "<Figure size 432x288 with 1 Axes>"
      ]
     },
     "metadata": {
      "needs_background": "light"
     },
     "output_type": "display_data"
    }
   ],
   "source": [
    "CC_df.hist(column=\"CREDIT_LIMIT\")"
   ]
  },
  {
   "cell_type": "code",
   "execution_count": 49,
   "id": "9fc7908f",
   "metadata": {},
   "outputs": [],
   "source": [
    "CC_df['CREDIT_LIMIT'] = CC_df['CREDIT_LIMIT'].fillna(CC_df['CREDIT_LIMIT'].median())"
   ]
  },
  {
   "cell_type": "code",
   "execution_count": 50,
   "id": "be9c3118",
   "metadata": {},
   "outputs": [
    {
     "data": {
      "text/plain": [
       "BALANCE                             0.0\n",
       "BALANCE_FREQUENCY                   0.0\n",
       "PURCHASES                           0.0\n",
       "ONEOFF_PURCHASES                    0.0\n",
       "INSTALLMENTS_PURCHASES              0.0\n",
       "CASH_ADVANCE                        0.0\n",
       "PURCHASES_FREQUENCY                 0.0\n",
       "ONEOFF_PURCHASES_FREQUENCY          0.0\n",
       "PURCHASES_INSTALLMENTS_FREQUENCY    0.0\n",
       "CASH_ADVANCE_FREQUENCY              0.0\n",
       "CASH_ADVANCE_TRX                    0.0\n",
       "PURCHASES_TRX                       0.0\n",
       "CREDIT_LIMIT                        0.0\n",
       "PAYMENTS                            0.0\n",
       "MINIMUM_PAYMENTS                    0.0\n",
       "PRC_FULL_PAYMENT                    0.0\n",
       "TENURE                              0.0\n",
       "dtype: float64"
      ]
     },
     "execution_count": 50,
     "metadata": {},
     "output_type": "execute_result"
    }
   ],
   "source": [
    "round(CC_df.isnull().sum(axis=0)*100/CC_df.shape[0],2)"
   ]
  },
  {
   "cell_type": "code",
   "execution_count": 51,
   "id": "323fa22a",
   "metadata": {},
   "outputs": [
    {
     "data": {
      "text/plain": [
       "0       1000.0\n",
       "1       7000.0\n",
       "2       7500.0\n",
       "3       7500.0\n",
       "4       1200.0\n",
       "         ...  \n",
       "8945    1000.0\n",
       "8946    1000.0\n",
       "8947    1000.0\n",
       "8948     500.0\n",
       "8949    1200.0\n",
       "Name: CREDIT_LIMIT, Length: 8950, dtype: float64"
      ]
     },
     "execution_count": 51,
     "metadata": {},
     "output_type": "execute_result"
    }
   ],
   "source": [
    "CC_df['CREDIT_LIMIT']"
   ]
  },
  {
   "cell_type": "code",
   "execution_count": 52,
   "id": "54bb4c71",
   "metadata": {},
   "outputs": [
    {
     "name": "stdout",
     "output_type": "stream",
     "text": [
      "<class 'pandas.core.frame.DataFrame'>\n",
      "RangeIndex: 8950 entries, 0 to 8949\n",
      "Data columns (total 17 columns):\n",
      " #   Column                            Non-Null Count  Dtype  \n",
      "---  ------                            --------------  -----  \n",
      " 0   BALANCE                           8950 non-null   float64\n",
      " 1   BALANCE_FREQUENCY                 8950 non-null   float64\n",
      " 2   PURCHASES                         8950 non-null   float64\n",
      " 3   ONEOFF_PURCHASES                  8950 non-null   float64\n",
      " 4   INSTALLMENTS_PURCHASES            8950 non-null   float64\n",
      " 5   CASH_ADVANCE                      8950 non-null   float64\n",
      " 6   PURCHASES_FREQUENCY               8950 non-null   float64\n",
      " 7   ONEOFF_PURCHASES_FREQUENCY        8950 non-null   float64\n",
      " 8   PURCHASES_INSTALLMENTS_FREQUENCY  8950 non-null   float64\n",
      " 9   CASH_ADVANCE_FREQUENCY            8950 non-null   float64\n",
      " 10  CASH_ADVANCE_TRX                  8950 non-null   int64  \n",
      " 11  PURCHASES_TRX                     8950 non-null   int64  \n",
      " 12  CREDIT_LIMIT                      8950 non-null   float64\n",
      " 13  PAYMENTS                          8950 non-null   float64\n",
      " 14  MINIMUM_PAYMENTS                  8950 non-null   float64\n",
      " 15  PRC_FULL_PAYMENT                  8950 non-null   float64\n",
      " 16  TENURE                            8950 non-null   int64  \n",
      "dtypes: float64(14), int64(3)\n",
      "memory usage: 1.2 MB\n"
     ]
    }
   ],
   "source": [
    "CC_df.info()"
   ]
  },
  {
   "cell_type": "code",
   "execution_count": 53,
   "id": "09cef9cd",
   "metadata": {},
   "outputs": [
    {
     "data": {
      "text/html": [
       "<div>\n",
       "<style scoped>\n",
       "    .dataframe tbody tr th:only-of-type {\n",
       "        vertical-align: middle;\n",
       "    }\n",
       "\n",
       "    .dataframe tbody tr th {\n",
       "        vertical-align: top;\n",
       "    }\n",
       "\n",
       "    .dataframe thead th {\n",
       "        text-align: right;\n",
       "    }\n",
       "</style>\n",
       "<table border=\"1\" class=\"dataframe\">\n",
       "  <thead>\n",
       "    <tr style=\"text-align: right;\">\n",
       "      <th></th>\n",
       "      <th>BALANCE</th>\n",
       "      <th>BALANCE_FREQUENCY</th>\n",
       "      <th>PURCHASES</th>\n",
       "      <th>ONEOFF_PURCHASES</th>\n",
       "      <th>INSTALLMENTS_PURCHASES</th>\n",
       "      <th>CASH_ADVANCE</th>\n",
       "      <th>PURCHASES_FREQUENCY</th>\n",
       "      <th>ONEOFF_PURCHASES_FREQUENCY</th>\n",
       "      <th>PURCHASES_INSTALLMENTS_FREQUENCY</th>\n",
       "      <th>CASH_ADVANCE_FREQUENCY</th>\n",
       "      <th>CASH_ADVANCE_TRX</th>\n",
       "      <th>PURCHASES_TRX</th>\n",
       "      <th>CREDIT_LIMIT</th>\n",
       "      <th>PAYMENTS</th>\n",
       "      <th>MINIMUM_PAYMENTS</th>\n",
       "      <th>PRC_FULL_PAYMENT</th>\n",
       "      <th>TENURE</th>\n",
       "    </tr>\n",
       "  </thead>\n",
       "  <tbody>\n",
       "    <tr>\n",
       "      <th>0</th>\n",
       "      <td>40.900749</td>\n",
       "      <td>0.818182</td>\n",
       "      <td>95.40</td>\n",
       "      <td>0.00</td>\n",
       "      <td>95.40</td>\n",
       "      <td>0.000000</td>\n",
       "      <td>0.166667</td>\n",
       "      <td>0.000000</td>\n",
       "      <td>0.083333</td>\n",
       "      <td>0.000000</td>\n",
       "      <td>0</td>\n",
       "      <td>2</td>\n",
       "      <td>1000.0</td>\n",
       "      <td>201.802084</td>\n",
       "      <td>139.509787</td>\n",
       "      <td>0.000000</td>\n",
       "      <td>12</td>\n",
       "    </tr>\n",
       "    <tr>\n",
       "      <th>1</th>\n",
       "      <td>3202.467416</td>\n",
       "      <td>0.909091</td>\n",
       "      <td>0.00</td>\n",
       "      <td>0.00</td>\n",
       "      <td>0.00</td>\n",
       "      <td>6442.945483</td>\n",
       "      <td>0.000000</td>\n",
       "      <td>0.000000</td>\n",
       "      <td>0.000000</td>\n",
       "      <td>0.250000</td>\n",
       "      <td>4</td>\n",
       "      <td>0</td>\n",
       "      <td>7000.0</td>\n",
       "      <td>4103.032597</td>\n",
       "      <td>1072.340217</td>\n",
       "      <td>0.222222</td>\n",
       "      <td>12</td>\n",
       "    </tr>\n",
       "    <tr>\n",
       "      <th>2</th>\n",
       "      <td>2495.148862</td>\n",
       "      <td>1.000000</td>\n",
       "      <td>773.17</td>\n",
       "      <td>773.17</td>\n",
       "      <td>0.00</td>\n",
       "      <td>0.000000</td>\n",
       "      <td>1.000000</td>\n",
       "      <td>1.000000</td>\n",
       "      <td>0.000000</td>\n",
       "      <td>0.000000</td>\n",
       "      <td>0</td>\n",
       "      <td>12</td>\n",
       "      <td>7500.0</td>\n",
       "      <td>622.066742</td>\n",
       "      <td>627.284787</td>\n",
       "      <td>0.000000</td>\n",
       "      <td>12</td>\n",
       "    </tr>\n",
       "    <tr>\n",
       "      <th>3</th>\n",
       "      <td>1666.670542</td>\n",
       "      <td>0.636364</td>\n",
       "      <td>1499.00</td>\n",
       "      <td>1499.00</td>\n",
       "      <td>0.00</td>\n",
       "      <td>205.788017</td>\n",
       "      <td>0.083333</td>\n",
       "      <td>0.083333</td>\n",
       "      <td>0.000000</td>\n",
       "      <td>0.083333</td>\n",
       "      <td>1</td>\n",
       "      <td>1</td>\n",
       "      <td>7500.0</td>\n",
       "      <td>0.000000</td>\n",
       "      <td>312.343947</td>\n",
       "      <td>0.000000</td>\n",
       "      <td>12</td>\n",
       "    </tr>\n",
       "    <tr>\n",
       "      <th>4</th>\n",
       "      <td>817.714335</td>\n",
       "      <td>1.000000</td>\n",
       "      <td>16.00</td>\n",
       "      <td>16.00</td>\n",
       "      <td>0.00</td>\n",
       "      <td>0.000000</td>\n",
       "      <td>0.083333</td>\n",
       "      <td>0.083333</td>\n",
       "      <td>0.000000</td>\n",
       "      <td>0.000000</td>\n",
       "      <td>0</td>\n",
       "      <td>1</td>\n",
       "      <td>1200.0</td>\n",
       "      <td>678.334763</td>\n",
       "      <td>244.791237</td>\n",
       "      <td>0.000000</td>\n",
       "      <td>12</td>\n",
       "    </tr>\n",
       "    <tr>\n",
       "      <th>...</th>\n",
       "      <td>...</td>\n",
       "      <td>...</td>\n",
       "      <td>...</td>\n",
       "      <td>...</td>\n",
       "      <td>...</td>\n",
       "      <td>...</td>\n",
       "      <td>...</td>\n",
       "      <td>...</td>\n",
       "      <td>...</td>\n",
       "      <td>...</td>\n",
       "      <td>...</td>\n",
       "      <td>...</td>\n",
       "      <td>...</td>\n",
       "      <td>...</td>\n",
       "      <td>...</td>\n",
       "      <td>...</td>\n",
       "      <td>...</td>\n",
       "    </tr>\n",
       "    <tr>\n",
       "      <th>8945</th>\n",
       "      <td>28.493517</td>\n",
       "      <td>1.000000</td>\n",
       "      <td>291.12</td>\n",
       "      <td>0.00</td>\n",
       "      <td>291.12</td>\n",
       "      <td>0.000000</td>\n",
       "      <td>1.000000</td>\n",
       "      <td>0.000000</td>\n",
       "      <td>0.833333</td>\n",
       "      <td>0.000000</td>\n",
       "      <td>0</td>\n",
       "      <td>6</td>\n",
       "      <td>1000.0</td>\n",
       "      <td>325.594462</td>\n",
       "      <td>48.886365</td>\n",
       "      <td>0.500000</td>\n",
       "      <td>6</td>\n",
       "    </tr>\n",
       "    <tr>\n",
       "      <th>8946</th>\n",
       "      <td>19.183215</td>\n",
       "      <td>1.000000</td>\n",
       "      <td>300.00</td>\n",
       "      <td>0.00</td>\n",
       "      <td>300.00</td>\n",
       "      <td>0.000000</td>\n",
       "      <td>1.000000</td>\n",
       "      <td>0.000000</td>\n",
       "      <td>0.833333</td>\n",
       "      <td>0.000000</td>\n",
       "      <td>0</td>\n",
       "      <td>6</td>\n",
       "      <td>1000.0</td>\n",
       "      <td>275.861322</td>\n",
       "      <td>312.343947</td>\n",
       "      <td>0.000000</td>\n",
       "      <td>6</td>\n",
       "    </tr>\n",
       "    <tr>\n",
       "      <th>8947</th>\n",
       "      <td>23.398673</td>\n",
       "      <td>0.833333</td>\n",
       "      <td>144.40</td>\n",
       "      <td>0.00</td>\n",
       "      <td>144.40</td>\n",
       "      <td>0.000000</td>\n",
       "      <td>0.833333</td>\n",
       "      <td>0.000000</td>\n",
       "      <td>0.666667</td>\n",
       "      <td>0.000000</td>\n",
       "      <td>0</td>\n",
       "      <td>5</td>\n",
       "      <td>1000.0</td>\n",
       "      <td>81.270775</td>\n",
       "      <td>82.418369</td>\n",
       "      <td>0.250000</td>\n",
       "      <td>6</td>\n",
       "    </tr>\n",
       "    <tr>\n",
       "      <th>8948</th>\n",
       "      <td>13.457564</td>\n",
       "      <td>0.833333</td>\n",
       "      <td>0.00</td>\n",
       "      <td>0.00</td>\n",
       "      <td>0.00</td>\n",
       "      <td>36.558778</td>\n",
       "      <td>0.000000</td>\n",
       "      <td>0.000000</td>\n",
       "      <td>0.000000</td>\n",
       "      <td>0.166667</td>\n",
       "      <td>2</td>\n",
       "      <td>0</td>\n",
       "      <td>500.0</td>\n",
       "      <td>52.549959</td>\n",
       "      <td>55.755628</td>\n",
       "      <td>0.250000</td>\n",
       "      <td>6</td>\n",
       "    </tr>\n",
       "    <tr>\n",
       "      <th>8949</th>\n",
       "      <td>372.708075</td>\n",
       "      <td>0.666667</td>\n",
       "      <td>1093.25</td>\n",
       "      <td>1093.25</td>\n",
       "      <td>0.00</td>\n",
       "      <td>127.040008</td>\n",
       "      <td>0.666667</td>\n",
       "      <td>0.666667</td>\n",
       "      <td>0.000000</td>\n",
       "      <td>0.333333</td>\n",
       "      <td>2</td>\n",
       "      <td>23</td>\n",
       "      <td>1200.0</td>\n",
       "      <td>63.165404</td>\n",
       "      <td>88.288956</td>\n",
       "      <td>0.000000</td>\n",
       "      <td>6</td>\n",
       "    </tr>\n",
       "  </tbody>\n",
       "</table>\n",
       "<p>8950 rows × 17 columns</p>\n",
       "</div>"
      ],
      "text/plain": [
       "          BALANCE  BALANCE_FREQUENCY  PURCHASES  ONEOFF_PURCHASES  \\\n",
       "0       40.900749           0.818182      95.40              0.00   \n",
       "1     3202.467416           0.909091       0.00              0.00   \n",
       "2     2495.148862           1.000000     773.17            773.17   \n",
       "3     1666.670542           0.636364    1499.00           1499.00   \n",
       "4      817.714335           1.000000      16.00             16.00   \n",
       "...           ...                ...        ...               ...   \n",
       "8945    28.493517           1.000000     291.12              0.00   \n",
       "8946    19.183215           1.000000     300.00              0.00   \n",
       "8947    23.398673           0.833333     144.40              0.00   \n",
       "8948    13.457564           0.833333       0.00              0.00   \n",
       "8949   372.708075           0.666667    1093.25           1093.25   \n",
       "\n",
       "      INSTALLMENTS_PURCHASES  CASH_ADVANCE  PURCHASES_FREQUENCY  \\\n",
       "0                      95.40      0.000000             0.166667   \n",
       "1                       0.00   6442.945483             0.000000   \n",
       "2                       0.00      0.000000             1.000000   \n",
       "3                       0.00    205.788017             0.083333   \n",
       "4                       0.00      0.000000             0.083333   \n",
       "...                      ...           ...                  ...   \n",
       "8945                  291.12      0.000000             1.000000   \n",
       "8946                  300.00      0.000000             1.000000   \n",
       "8947                  144.40      0.000000             0.833333   \n",
       "8948                    0.00     36.558778             0.000000   \n",
       "8949                    0.00    127.040008             0.666667   \n",
       "\n",
       "      ONEOFF_PURCHASES_FREQUENCY  PURCHASES_INSTALLMENTS_FREQUENCY  \\\n",
       "0                       0.000000                          0.083333   \n",
       "1                       0.000000                          0.000000   \n",
       "2                       1.000000                          0.000000   \n",
       "3                       0.083333                          0.000000   \n",
       "4                       0.083333                          0.000000   \n",
       "...                          ...                               ...   \n",
       "8945                    0.000000                          0.833333   \n",
       "8946                    0.000000                          0.833333   \n",
       "8947                    0.000000                          0.666667   \n",
       "8948                    0.000000                          0.000000   \n",
       "8949                    0.666667                          0.000000   \n",
       "\n",
       "      CASH_ADVANCE_FREQUENCY  CASH_ADVANCE_TRX  PURCHASES_TRX  CREDIT_LIMIT  \\\n",
       "0                   0.000000                 0              2        1000.0   \n",
       "1                   0.250000                 4              0        7000.0   \n",
       "2                   0.000000                 0             12        7500.0   \n",
       "3                   0.083333                 1              1        7500.0   \n",
       "4                   0.000000                 0              1        1200.0   \n",
       "...                      ...               ...            ...           ...   \n",
       "8945                0.000000                 0              6        1000.0   \n",
       "8946                0.000000                 0              6        1000.0   \n",
       "8947                0.000000                 0              5        1000.0   \n",
       "8948                0.166667                 2              0         500.0   \n",
       "8949                0.333333                 2             23        1200.0   \n",
       "\n",
       "         PAYMENTS  MINIMUM_PAYMENTS  PRC_FULL_PAYMENT  TENURE  \n",
       "0      201.802084        139.509787          0.000000      12  \n",
       "1     4103.032597       1072.340217          0.222222      12  \n",
       "2      622.066742        627.284787          0.000000      12  \n",
       "3        0.000000        312.343947          0.000000      12  \n",
       "4      678.334763        244.791237          0.000000      12  \n",
       "...           ...               ...               ...     ...  \n",
       "8945   325.594462         48.886365          0.500000       6  \n",
       "8946   275.861322        312.343947          0.000000       6  \n",
       "8947    81.270775         82.418369          0.250000       6  \n",
       "8948    52.549959         55.755628          0.250000       6  \n",
       "8949    63.165404         88.288956          0.000000       6  \n",
       "\n",
       "[8950 rows x 17 columns]"
      ]
     },
     "execution_count": 53,
     "metadata": {},
     "output_type": "execute_result"
    }
   ],
   "source": [
    "CC_df"
   ]
  },
  {
   "cell_type": "code",
   "execution_count": 54,
   "id": "64f27c70",
   "metadata": {},
   "outputs": [
    {
     "name": "stdout",
     "output_type": "stream",
     "text": [
      "<class 'pandas.core.frame.DataFrame'>\n",
      "RangeIndex: 8950 entries, 0 to 8949\n",
      "Data columns (total 17 columns):\n",
      " #   Column                            Non-Null Count  Dtype  \n",
      "---  ------                            --------------  -----  \n",
      " 0   BALANCE                           8950 non-null   float64\n",
      " 1   BALANCE_FREQUENCY                 8950 non-null   float64\n",
      " 2   PURCHASES                         8950 non-null   float64\n",
      " 3   ONEOFF_PURCHASES                  8950 non-null   float64\n",
      " 4   INSTALLMENTS_PURCHASES            8950 non-null   float64\n",
      " 5   CASH_ADVANCE                      8950 non-null   float64\n",
      " 6   PURCHASES_FREQUENCY               8950 non-null   float64\n",
      " 7   ONEOFF_PURCHASES_FREQUENCY        8950 non-null   float64\n",
      " 8   PURCHASES_INSTALLMENTS_FREQUENCY  8950 non-null   float64\n",
      " 9   CASH_ADVANCE_FREQUENCY            8950 non-null   float64\n",
      " 10  CASH_ADVANCE_TRX                  8950 non-null   int64  \n",
      " 11  PURCHASES_TRX                     8950 non-null   int64  \n",
      " 12  CREDIT_LIMIT                      8950 non-null   float64\n",
      " 13  PAYMENTS                          8950 non-null   float64\n",
      " 14  MINIMUM_PAYMENTS                  8950 non-null   float64\n",
      " 15  PRC_FULL_PAYMENT                  8950 non-null   float64\n",
      " 16  TENURE                            8950 non-null   int64  \n",
      "dtypes: float64(14), int64(3)\n",
      "memory usage: 1.2 MB\n"
     ]
    }
   ],
   "source": [
    "CC_df.info()"
   ]
  },
  {
   "cell_type": "markdown",
   "id": "ae6fd2d2",
   "metadata": {},
   "source": [
    "## Normalize DataFrame "
   ]
  },
  {
   "cell_type": "code",
   "execution_count": 78,
   "id": "e07379b4",
   "metadata": {},
   "outputs": [
    {
     "data": {
      "text/plain": [
       "array([[3.93529208e-02, 7.87219116e-04, 9.17897286e-02, ...,\n",
       "        1.34230246e-01, 0.00000000e+00, 1.15458778e-02],\n",
       "       [2.93875725e-01, 8.34231054e-05, 0.00000000e+00, ...,\n",
       "        9.84037362e-02, 2.03922922e-05, 1.10118488e-03],\n",
       "       [3.10797802e-01, 1.24560826e-04, 9.63066935e-02, ...,\n",
       "        7.81351110e-02, 0.00000000e+00, 1.49472991e-03],\n",
       "       ...,\n",
       "       [2.27729209e-02, 8.11047126e-04, 1.40538302e-01, ...,\n",
       "        8.02142497e-02, 2.43314235e-04, 5.83954164e-03],\n",
       "       [2.65239400e-02, 1.64244246e-03, 0.00000000e+00, ...,\n",
       "        1.09890537e-01, 4.92732934e-04, 1.18255904e-02],\n",
       "       [1.86405379e-01, 3.33425336e-04, 5.46775599e-01, ...,\n",
       "        4.41566401e-02, 0.00000000e+00, 3.00082652e-03]])"
      ]
     },
     "execution_count": 78,
     "metadata": {},
     "output_type": "execute_result"
    }
   ],
   "source": [
    "from sklearn import preprocessing\n",
    "df_normalized = preprocessing.normalize(CC_df)\n",
    "df_normalized"
   ]
  },
  {
   "cell_type": "markdown",
   "id": "6220c3dd",
   "metadata": {},
   "source": [
    "## PCA n_components=3"
   ]
  },
  {
   "cell_type": "code",
   "execution_count": 117,
   "id": "b34f771a",
   "metadata": {},
   "outputs": [
    {
     "data": {
      "text/html": [
       "<div>\n",
       "<style scoped>\n",
       "    .dataframe tbody tr th:only-of-type {\n",
       "        vertical-align: middle;\n",
       "    }\n",
       "\n",
       "    .dataframe tbody tr th {\n",
       "        vertical-align: top;\n",
       "    }\n",
       "\n",
       "    .dataframe thead th {\n",
       "        text-align: right;\n",
       "    }\n",
       "</style>\n",
       "<table border=\"1\" class=\"dataframe\">\n",
       "  <thead>\n",
       "    <tr style=\"text-align: right;\">\n",
       "      <th></th>\n",
       "      <th>0</th>\n",
       "      <th>1</th>\n",
       "      <th>2</th>\n",
       "    </tr>\n",
       "  </thead>\n",
       "  <tbody>\n",
       "    <tr>\n",
       "      <th>0</th>\n",
       "      <td>-0.315267</td>\n",
       "      <td>-0.041609</td>\n",
       "      <td>0.027724</td>\n",
       "    </tr>\n",
       "    <tr>\n",
       "      <th>1</th>\n",
       "      <td>0.318365</td>\n",
       "      <td>-0.161007</td>\n",
       "      <td>0.365700</td>\n",
       "    </tr>\n",
       "    <tr>\n",
       "      <th>2</th>\n",
       "      <td>-0.207153</td>\n",
       "      <td>-0.180748</td>\n",
       "      <td>-0.127354</td>\n",
       "    </tr>\n",
       "    <tr>\n",
       "      <th>3</th>\n",
       "      <td>-0.291843</td>\n",
       "      <td>-0.113087</td>\n",
       "      <td>-0.113674</td>\n",
       "    </tr>\n",
       "    <tr>\n",
       "      <th>4</th>\n",
       "      <td>0.142319</td>\n",
       "      <td>-0.090890</td>\n",
       "      <td>-0.100240</td>\n",
       "    </tr>\n",
       "    <tr>\n",
       "      <th>...</th>\n",
       "      <td>...</td>\n",
       "      <td>...</td>\n",
       "      <td>...</td>\n",
       "    </tr>\n",
       "    <tr>\n",
       "      <th>8945</th>\n",
       "      <td>-0.287758</td>\n",
       "      <td>0.168050</td>\n",
       "      <td>0.037791</td>\n",
       "    </tr>\n",
       "    <tr>\n",
       "      <th>8946</th>\n",
       "      <td>-0.228783</td>\n",
       "      <td>0.138443</td>\n",
       "      <td>-0.068374</td>\n",
       "    </tr>\n",
       "    <tr>\n",
       "      <th>8947</th>\n",
       "      <td>-0.387086</td>\n",
       "      <td>-0.057507</td>\n",
       "      <td>-0.002314</td>\n",
       "    </tr>\n",
       "    <tr>\n",
       "      <th>8948</th>\n",
       "      <td>-0.331979</td>\n",
       "      <td>-0.177041</td>\n",
       "      <td>0.090708</td>\n",
       "    </tr>\n",
       "    <tr>\n",
       "      <th>8949</th>\n",
       "      <td>-0.086644</td>\n",
       "      <td>0.307385</td>\n",
       "      <td>-0.240947</td>\n",
       "    </tr>\n",
       "  </tbody>\n",
       "</table>\n",
       "<p>8950 rows × 3 columns</p>\n",
       "</div>"
      ],
      "text/plain": [
       "             0         1         2\n",
       "0    -0.315267 -0.041609  0.027724\n",
       "1     0.318365 -0.161007  0.365700\n",
       "2    -0.207153 -0.180748 -0.127354\n",
       "3    -0.291843 -0.113087 -0.113674\n",
       "4     0.142319 -0.090890 -0.100240\n",
       "...        ...       ...       ...\n",
       "8945 -0.287758  0.168050  0.037791\n",
       "8946 -0.228783  0.138443 -0.068374\n",
       "8947 -0.387086 -0.057507 -0.002314\n",
       "8948 -0.331979 -0.177041  0.090708\n",
       "8949 -0.086644  0.307385 -0.240947\n",
       "\n",
       "[8950 rows x 3 columns]"
      ]
     },
     "execution_count": 117,
     "metadata": {},
     "output_type": "execute_result"
    }
   ],
   "source": [
    "from sklearn.decomposition import PCA\n",
    "pca = PCA(n_components=3).fit_transform(df_normalized)\n",
    "DF_pca3 = pd.DataFrame(pca)\n",
    "DF_pca3"
   ]
  },
  {
   "cell_type": "markdown",
   "id": "7544aa52",
   "metadata": {},
   "source": [
    "## KMeans"
   ]
  },
  {
   "cell_type": "markdown",
   "id": "4cce8b35",
   "metadata": {},
   "source": [
    "## Choose K"
   ]
  },
  {
   "cell_type": "code",
   "execution_count": 118,
   "id": "7d963a07",
   "metadata": {},
   "outputs": [
    {
     "data": {
      "image/png": "[encoded data removed]",
      "text/plain": [
       "<Figure size 432x288 with 2 Axes>"
      ]
     },
     "metadata": {},
     "output_type": "display_data"
    },
    {
     "data": {
      "text/plain": [
       "<AxesSubplot:title={'center':'Distortion Score Elbow for KMeans Clustering'}, xlabel='k', ylabel='distortion score'>"
      ]
     },
     "execution_count": 118,
     "metadata": {},
     "output_type": "execute_result"
    }
   ],
   "source": [
    "from yellowbrick.cluster import KElbowVisualizer\n",
    "model = KMeans()\n",
    "visualizer = KElbowVisualizer(model, k=(2,10)).fit(DF_pca3)\n",
    "visualizer.show()"
   ]
  },
  {
   "cell_type": "markdown",
   "id": "c0bd1609",
   "metadata": {},
   "source": [
    "## Applying KMeans"
   ]
  },
  {
   "cell_type": "code",
   "execution_count": 119,
   "id": "1161e7ad",
   "metadata": {},
   "outputs": [
    {
     "data": {
      "text/plain": [
       "0       3\n",
       "1       2\n",
       "2       3\n",
       "3       3\n",
       "4       1\n",
       "       ..\n",
       "8945    3\n",
       "8946    3\n",
       "8947    3\n",
       "8948    3\n",
       "8949    0\n",
       "Name: Kmeans, Length: 8950, dtype: int32"
      ]
     },
     "execution_count": 119,
     "metadata": {},
     "output_type": "execute_result"
    }
   ],
   "source": [
    "from sklearn.cluster import KMeans\n",
    "kmeans3 = KMeans(n_clusters=4, random_state=0).fit(DF_pca3)\n",
    "DF_pca3['Kmeans'] = kmeans3.labels_\n",
    "K_labels_3=DF_pca3['Kmeans']\n",
    "K_labels_3"
   ]
  },
  {
   "cell_type": "markdown",
   "id": "471029b5",
   "metadata": {},
   "source": [
    "## Hierarchical"
   ]
  },
  {
   "cell_type": "markdown",
   "id": "11dc2f1d",
   "metadata": {},
   "source": [
    "## Choose K"
   ]
  },
  {
   "cell_type": "code",
   "execution_count": 120,
   "id": "07bccc2b",
   "metadata": {},
   "outputs": [
    {
     "data": {
      "image/png": "[encoded data removed]",
      "text/plain": [
       "<Figure size 432x288 with 2 Axes>"
      ]
     },
     "metadata": {},
     "output_type": "display_data"
    },
    {
     "data": {
      "text/plain": [
       "<AxesSubplot:title={'center':'Distortion Score Elbow for AgglomerativeClustering Clustering'}, xlabel='k', ylabel='distortion score'>"
      ]
     },
     "execution_count": 120,
     "metadata": {},
     "output_type": "execute_result"
    }
   ],
   "source": [
    "from sklearn.cluster import AgglomerativeClustering\n",
    "from yellowbrick.cluster import KElbowVisualizer\n",
    "model = AgglomerativeClustering()\n",
    "visualizer = KElbowVisualizer(model, k=(2,10)).fit(DF_pca3)\n",
    "visualizer.show()"
   ]
  },
  {
   "cell_type": "markdown",
   "id": "2d17e031",
   "metadata": {},
   "source": [
    "## Applying AgglomerativeClustering"
   ]
  },
  {
   "cell_type": "code",
   "execution_count": 121,
   "id": "172aa3ea",
   "metadata": {},
   "outputs": [
    {
     "data": {
      "text/plain": [
       "0       3\n",
       "1       0\n",
       "2       3\n",
       "3       3\n",
       "4       1\n",
       "       ..\n",
       "8945    3\n",
       "8946    3\n",
       "8947    3\n",
       "8948    3\n",
       "8949    2\n",
       "Name: clust, Length: 8950, dtype: int64"
      ]
     },
     "execution_count": 121,
     "metadata": {},
     "output_type": "execute_result"
    }
   ],
   "source": [
    "from sklearn.cluster import AgglomerativeClustering\n",
    "clustering3 = AgglomerativeClustering(n_clusters=4).fit(DF_pca3)\n",
    "DF_pca3['clust'] = clustering3.labels_\n",
    "C_labels_3=DF_pca3['clust']\n",
    "C_labels_3"
   ]
  },
  {
   "cell_type": "markdown",
   "id": "e5a194ae",
   "metadata": {},
   "source": [
    "## Gaussian Mixtures"
   ]
  },
  {
   "cell_type": "code",
   "execution_count": 84,
   "id": "475709f4",
   "metadata": {},
   "outputs": [
    {
     "name": "stdout",
     "output_type": "stream",
     "text": [
      "<class 'pandas.core.frame.DataFrame'>\n",
      "RangeIndex: 8950 entries, 0 to 8949\n",
      "Data columns (total 3 columns):\n",
      " #   Column  Non-Null Count  Dtype  \n",
      "---  ------  --------------  -----  \n",
      " 0   0       8950 non-null   float64\n",
      " 1   1       8950 non-null   float64\n",
      " 2   2       8950 non-null   float64\n",
      "dtypes: float64(3)\n",
      "memory usage: 209.9 KB\n"
     ]
    }
   ],
   "source": [
    "DF_pca.info()"
   ]
  },
  {
   "cell_type": "code",
   "execution_count": 122,
   "id": "fc282b08",
   "metadata": {},
   "outputs": [
    {
     "data": {
      "text/plain": [
       "0       1\n",
       "1       3\n",
       "2       1\n",
       "3       1\n",
       "4       0\n",
       "       ..\n",
       "8945    1\n",
       "8946    1\n",
       "8947    1\n",
       "8948    1\n",
       "8949    2\n",
       "Name: Gau, Length: 8950, dtype: int64"
      ]
     },
     "execution_count": 122,
     "metadata": {},
     "output_type": "execute_result"
    }
   ],
   "source": [
    "from sklearn.mixture import GaussianMixture\n",
    "Gaussian3 = GaussianMixture(4).fit(DF_pca3)\n",
    "DF_pca3['Gau'] = Gaussian3.predict(DF_pca3)\n",
    "GU_labels_3=DF_pca3['Gau']\n",
    "GU_labels_3"
   ]
  },
  {
   "cell_type": "markdown",
   "id": "748a7de1",
   "metadata": {},
   "source": [
    "## DBScan"
   ]
  },
  {
   "cell_type": "markdown",
   "id": "15c12d36",
   "metadata": {},
   "source": [
    "## Finding the Optimal value of Epsilon"
   ]
  },
  {
   "cell_type": "code",
   "execution_count": 128,
   "id": "d4c3b455",
   "metadata": {},
   "outputs": [
    {
     "name": "stdout",
     "output_type": "stream",
     "text": [
      "0.07681843500336243\n"
     ]
    }
   ],
   "source": [
    "from sklearn.neighbors import NearestNeighbors\n",
    "from kneed import KneeLocator\n",
    "\n",
    "nearest_neighbors = NearestNeighbors(n_neighbors=11)\n",
    "neighbors = nearest_neighbors.fit(DF_pca3)\n",
    "distances, indices = neighbors.kneighbors(DF_pca3)\n",
    "distances = np.sort(distances[:,10], axis=0)\n",
    "i = np.arange(len(distances))\n",
    "knee = KneeLocator(i, distances, S=1, curve='convex', direction='increasing', interp_method='polynomial')\n",
    "print(distances[knee.knee])\n"
   ]
  },
  {
   "cell_type": "markdown",
   "id": "685e3971",
   "metadata": {},
   "source": [
    "## Applying DBSCAN "
   ]
  },
  {
   "cell_type": "code",
   "execution_count": 129,
   "id": "5840099f",
   "metadata": {},
   "outputs": [
    {
     "name": "stdout",
     "output_type": "stream",
     "text": [
      "0       0\n",
      "1       1\n",
      "2       0\n",
      "3       0\n",
      "4       2\n",
      "       ..\n",
      "8945    0\n",
      "8946    0\n",
      "8947    0\n",
      "8948    0\n",
      "8949    3\n",
      "Name: dbs, Length: 8950, dtype: int64\n"
     ]
    }
   ],
   "source": [
    "db3 = DBSCAN(eps=distances[knee.knee], min_samples=10).fit(DF_pca3)\n",
    "DF_pca3['dbs'] = db3.labels_\n",
    "db_labels_3=DF_pca3['dbs']\n",
    "print(db_labels_3)\n",
    "n_clusters_3 = len(set(db_labels_3)) - (1 if -1 in db_labels_3 else 0)\n",
    "n_noise_3 = list(db_labels_3).count(-1)"
   ]
  },
  {
   "cell_type": "code",
   "execution_count": 130,
   "id": "18957f95",
   "metadata": {},
   "outputs": [
    {
     "name": "stdout",
     "output_type": "stream",
     "text": [
      "Estimated number of clusters: 7\n",
      "Estimated number of noise points: 323\n"
     ]
    }
   ],
   "source": [
    "print(\"Estimated number of clusters: %d\" % n_clusters_3)\n",
    "print(\"Estimated number of noise points: %d\" % n_noise_3)"
   ]
  },
  {
   "cell_type": "markdown",
   "id": "1940e7f2",
   "metadata": {},
   "source": [
    "## silhouette_score For Four technique"
   ]
  },
  {
   "cell_type": "code",
   "execution_count": 131,
   "id": "cb784e14",
   "metadata": {},
   "outputs": [
    {
     "name": "stdout",
     "output_type": "stream",
     "text": [
      "Silhouette Coefficient For Kmeans : 0.847\n",
      "Silhouette Coefficient For Hierarchical : 0.847\n",
      "Silhouette Coefficient For Gaussian Mixtures : 0.847\n",
      "Silhouette Coefficient For DBScan : 0.853\n"
     ]
    }
   ],
   "source": [
    "from sklearn import metrics\n",
    "print(\"Silhouette Coefficient For Kmeans : %0.3f\" % metrics.silhouette_score(DF_pca3,K_labels_3))\n",
    "print(\"Silhouette Coefficient For Hierarchical : %0.3f\" % metrics.silhouette_score(DF_pca3,C_labels_3))\n",
    "print(\"Silhouette Coefficient For Gaussian Mixtures : %0.3f\" % metrics.silhouette_score(DF_pca3,GU_labels_3))\n",
    "print(\"Silhouette Coefficient For DBScan : %0.3f\" % metrics.silhouette_score(DF_pca3,db_labels_3))"
   ]
  },
  {
   "cell_type": "markdown",
   "id": "799bc0de",
   "metadata": {},
   "source": [
    "## PCA n_components=4"
   ]
  },
  {
   "cell_type": "code",
   "execution_count": 132,
   "id": "acabf147",
   "metadata": {},
   "outputs": [
    {
     "data": {
      "text/html": [
       "<div>\n",
       "<style scoped>\n",
       "    .dataframe tbody tr th:only-of-type {\n",
       "        vertical-align: middle;\n",
       "    }\n",
       "\n",
       "    .dataframe tbody tr th {\n",
       "        vertical-align: top;\n",
       "    }\n",
       "\n",
       "    .dataframe thead th {\n",
       "        text-align: right;\n",
       "    }\n",
       "</style>\n",
       "<table border=\"1\" class=\"dataframe\">\n",
       "  <thead>\n",
       "    <tr style=\"text-align: right;\">\n",
       "      <th></th>\n",
       "      <th>0</th>\n",
       "      <th>1</th>\n",
       "      <th>2</th>\n",
       "      <th>3</th>\n",
       "    </tr>\n",
       "  </thead>\n",
       "  <tbody>\n",
       "    <tr>\n",
       "      <th>0</th>\n",
       "      <td>-0.315267</td>\n",
       "      <td>-0.041609</td>\n",
       "      <td>0.027724</td>\n",
       "      <td>0.139935</td>\n",
       "    </tr>\n",
       "    <tr>\n",
       "      <th>1</th>\n",
       "      <td>0.318365</td>\n",
       "      <td>-0.161007</td>\n",
       "      <td>0.365700</td>\n",
       "      <td>-0.042647</td>\n",
       "    </tr>\n",
       "    <tr>\n",
       "      <th>2</th>\n",
       "      <td>-0.207153</td>\n",
       "      <td>-0.180748</td>\n",
       "      <td>-0.127354</td>\n",
       "      <td>-0.067867</td>\n",
       "    </tr>\n",
       "    <tr>\n",
       "      <th>3</th>\n",
       "      <td>-0.291843</td>\n",
       "      <td>-0.113087</td>\n",
       "      <td>-0.113674</td>\n",
       "      <td>-0.154760</td>\n",
       "    </tr>\n",
       "    <tr>\n",
       "      <th>4</th>\n",
       "      <td>0.142319</td>\n",
       "      <td>-0.090890</td>\n",
       "      <td>-0.100240</td>\n",
       "      <td>0.069771</td>\n",
       "    </tr>\n",
       "    <tr>\n",
       "      <th>...</th>\n",
       "      <td>...</td>\n",
       "      <td>...</td>\n",
       "      <td>...</td>\n",
       "      <td>...</td>\n",
       "    </tr>\n",
       "    <tr>\n",
       "      <th>8945</th>\n",
       "      <td>-0.287758</td>\n",
       "      <td>0.168050</td>\n",
       "      <td>0.037791</td>\n",
       "      <td>0.069282</td>\n",
       "    </tr>\n",
       "    <tr>\n",
       "      <th>8946</th>\n",
       "      <td>-0.228783</td>\n",
       "      <td>0.138443</td>\n",
       "      <td>-0.068374</td>\n",
       "      <td>0.193123</td>\n",
       "    </tr>\n",
       "    <tr>\n",
       "      <th>8947</th>\n",
       "      <td>-0.387086</td>\n",
       "      <td>-0.057507</td>\n",
       "      <td>-0.002314</td>\n",
       "      <td>0.075588</td>\n",
       "    </tr>\n",
       "    <tr>\n",
       "      <th>8948</th>\n",
       "      <td>-0.331979</td>\n",
       "      <td>-0.177041</td>\n",
       "      <td>0.090708</td>\n",
       "      <td>0.118397</td>\n",
       "    </tr>\n",
       "    <tr>\n",
       "      <th>8949</th>\n",
       "      <td>-0.086644</td>\n",
       "      <td>0.307385</td>\n",
       "      <td>-0.240947</td>\n",
       "      <td>-0.413048</td>\n",
       "    </tr>\n",
       "  </tbody>\n",
       "</table>\n",
       "<p>8950 rows × 4 columns</p>\n",
       "</div>"
      ],
      "text/plain": [
       "             0         1         2         3\n",
       "0    -0.315267 -0.041609  0.027724  0.139935\n",
       "1     0.318365 -0.161007  0.365700 -0.042647\n",
       "2    -0.207153 -0.180748 -0.127354 -0.067867\n",
       "3    -0.291843 -0.113087 -0.113674 -0.154760\n",
       "4     0.142319 -0.090890 -0.100240  0.069771\n",
       "...        ...       ...       ...       ...\n",
       "8945 -0.287758  0.168050  0.037791  0.069282\n",
       "8946 -0.228783  0.138443 -0.068374  0.193123\n",
       "8947 -0.387086 -0.057507 -0.002314  0.075588\n",
       "8948 -0.331979 -0.177041  0.090708  0.118397\n",
       "8949 -0.086644  0.307385 -0.240947 -0.413048\n",
       "\n",
       "[8950 rows x 4 columns]"
      ]
     },
     "execution_count": 132,
     "metadata": {},
     "output_type": "execute_result"
    }
   ],
   "source": [
    "from sklearn.decomposition import PCA\n",
    "pca4 = PCA(n_components=4).fit_transform(df_normalized)\n",
    "DF_pca4 = pd.DataFrame(pca4)\n",
    "DF_pca4"
   ]
  },
  {
   "cell_type": "markdown",
   "id": "11ea4da3",
   "metadata": {},
   "source": [
    "## KMeans"
   ]
  },
  {
   "cell_type": "markdown",
   "id": "f89f501b",
   "metadata": {},
   "source": [
    "## Choose K"
   ]
  },
  {
   "cell_type": "code",
   "execution_count": 91,
   "id": "f83aab97",
   "metadata": {},
   "outputs": [
    {
     "data": {
      "image/png": "[encoded data removed]",
      "text/plain": [
       "<Figure size 432x288 with 2 Axes>"
      ]
     },
     "metadata": {},
     "output_type": "display_data"
    },
    {
     "data": {
      "text/plain": [
       "<AxesSubplot:title={'center':'Distortion Score Elbow for KMeans Clustering'}, xlabel='k', ylabel='distortion score'>"
      ]
     },
     "execution_count": 91,
     "metadata": {},
     "output_type": "execute_result"
    }
   ],
   "source": [
    "from yellowbrick.cluster import KElbowVisualizer\n",
    "model = KMeans()\n",
    "visualizer = KElbowVisualizer(model, k=(2,10)).fit(DF_pca4)\n",
    "visualizer.show()"
   ]
  },
  {
   "cell_type": "markdown",
   "id": "2fa69445",
   "metadata": {},
   "source": [
    "## Applying KMeans"
   ]
  },
  {
   "cell_type": "code",
   "execution_count": 133,
   "id": "6d40e886",
   "metadata": {},
   "outputs": [
    {
     "data": {
      "text/plain": [
       "0       1\n",
       "1       2\n",
       "2       1\n",
       "3       1\n",
       "4       3\n",
       "       ..\n",
       "8945    1\n",
       "8946    1\n",
       "8947    1\n",
       "8948    1\n",
       "8949    0\n",
       "Name: Kmeans, Length: 8950, dtype: int32"
      ]
     },
     "execution_count": 133,
     "metadata": {},
     "output_type": "execute_result"
    }
   ],
   "source": [
    "from sklearn.cluster import KMeans\n",
    "kmeans4 = KMeans(n_clusters=4, random_state=0).fit(DF_pca4)\n",
    "DF_pca4['Kmeans'] = kmeans4.labels_\n",
    "K_labels_4=DF_pca4['Kmeans'] \n",
    "K_labels_4"
   ]
  },
  {
   "cell_type": "markdown",
   "id": "df7becf6",
   "metadata": {},
   "source": [
    "## Hierarchical"
   ]
  },
  {
   "cell_type": "markdown",
   "id": "d9500b61",
   "metadata": {},
   "source": [
    "## Choose K"
   ]
  },
  {
   "cell_type": "code",
   "execution_count": 134,
   "id": "f3dfaddd",
   "metadata": {},
   "outputs": [
    {
     "data": {
      "image/png": "[encoded data removed]",
      "text/plain": [
       "<Figure size 432x288 with 2 Axes>"
      ]
     },
     "metadata": {},
     "output_type": "display_data"
    },
    {
     "data": {
      "text/plain": [
       "<AxesSubplot:title={'center':'Distortion Score Elbow for AgglomerativeClustering Clustering'}, xlabel='k', ylabel='distortion score'>"
      ]
     },
     "execution_count": 134,
     "metadata": {},
     "output_type": "execute_result"
    }
   ],
   "source": [
    "from sklearn.cluster import AgglomerativeClustering\n",
    "from yellowbrick.cluster import KElbowVisualizer\n",
    "model = AgglomerativeClustering()\n",
    "visualizer = KElbowVisualizer(model, k=(2,10)).fit(DF_pca4)\n",
    "visualizer.show()"
   ]
  },
  {
   "cell_type": "markdown",
   "id": "b3d1a08b",
   "metadata": {},
   "source": [
    "## Applying AgglomerativeClustering"
   ]
  },
  {
   "cell_type": "code",
   "execution_count": 135,
   "id": "29c6b6c5",
   "metadata": {},
   "outputs": [
    {
     "data": {
      "text/plain": [
       "0       2\n",
       "1       0\n",
       "2       2\n",
       "3       2\n",
       "4       3\n",
       "       ..\n",
       "8945    2\n",
       "8946    2\n",
       "8947    2\n",
       "8948    2\n",
       "8949    1\n",
       "Name: clust, Length: 8950, dtype: int64"
      ]
     },
     "execution_count": 135,
     "metadata": {},
     "output_type": "execute_result"
    }
   ],
   "source": [
    "from sklearn.cluster import AgglomerativeClustering\n",
    "clustering4 = AgglomerativeClustering(n_clusters=5).fit(DF_pca4)\n",
    "DF_pca4['clust'] = clustering4.labels_\n",
    "C_labels_4=DF_pca4['clust']\n",
    "C_labels_4"
   ]
  },
  {
   "cell_type": "markdown",
   "id": "3f41f0ea",
   "metadata": {},
   "source": [
    "## Gaussian Mixtures"
   ]
  },
  {
   "cell_type": "code",
   "execution_count": 136,
   "id": "b7a703f9",
   "metadata": {},
   "outputs": [
    {
     "name": "stdout",
     "output_type": "stream",
     "text": [
      "<class 'pandas.core.frame.DataFrame'>\n",
      "RangeIndex: 8950 entries, 0 to 8949\n",
      "Data columns (total 6 columns):\n",
      " #   Column  Non-Null Count  Dtype  \n",
      "---  ------  --------------  -----  \n",
      " 0   0       8950 non-null   float64\n",
      " 1   1       8950 non-null   float64\n",
      " 2   2       8950 non-null   float64\n",
      " 3   3       8950 non-null   float64\n",
      " 4   Kmeans  8950 non-null   int32  \n",
      " 5   clust   8950 non-null   int64  \n",
      "dtypes: float64(4), int32(1), int64(1)\n",
      "memory usage: 384.7 KB\n"
     ]
    }
   ],
   "source": [
    "DF_pca4.info()"
   ]
  },
  {
   "cell_type": "code",
   "execution_count": 137,
   "id": "cad43b51",
   "metadata": {},
   "outputs": [
    {
     "data": {
      "text/plain": [
       "0       0\n",
       "1       2\n",
       "2       0\n",
       "3       0\n",
       "4       1\n",
       "       ..\n",
       "8945    0\n",
       "8946    0\n",
       "8947    0\n",
       "8948    0\n",
       "8949    3\n",
       "Name: gaus, Length: 8950, dtype: int64"
      ]
     },
     "execution_count": 137,
     "metadata": {},
     "output_type": "execute_result"
    }
   ],
   "source": [
    "from sklearn.mixture import GaussianMixture\n",
    "Gaussian4 = GaussianMixture(5).fit(DF_pca4)\n",
    "DF_pca4['gaus'] = Gaussian4.predict(DF_pca4)\n",
    "GU_labels_4=DF_pca4['gaus'] \n",
    "GU_labels_4"
   ]
  },
  {
   "cell_type": "markdown",
   "id": "eb42c9ca",
   "metadata": {},
   "source": [
    "## DBScan"
   ]
  },
  {
   "cell_type": "markdown",
   "id": "b8f7c5ae",
   "metadata": {},
   "source": [
    "## Finding the Optimal value of Epsilon"
   ]
  },
  {
   "cell_type": "code",
   "execution_count": 138,
   "id": "ffa26b00",
   "metadata": {},
   "outputs": [
    {
     "name": "stdout",
     "output_type": "stream",
     "text": [
      "0.11406787697958201\n"
     ]
    }
   ],
   "source": [
    "from sklearn.neighbors import NearestNeighbors\n",
    "from kneed import KneeLocator\n",
    "nearest_neighbors = NearestNeighbors(n_neighbors=11)\n",
    "neighbors = nearest_neighbors.fit(DF_pca4)\n",
    "distances, indices = neighbors.kneighbors(DF_pca4)\n",
    "distances = np.sort(distances[:,10], axis=0)\n",
    "i = np.arange(len(distances))\n",
    "knee = KneeLocator(i, distances, S=1, curve='convex', direction='increasing', interp_method='polynomial')\n",
    "print(distances[knee.knee])"
   ]
  },
  {
   "cell_type": "markdown",
   "id": "3da8fcaa",
   "metadata": {},
   "source": [
    "## Applying DBSCAN "
   ]
  },
  {
   "cell_type": "code",
   "execution_count": 139,
   "id": "f27ec6e5",
   "metadata": {},
   "outputs": [
    {
     "name": "stdout",
     "output_type": "stream",
     "text": [
      "0       0\n",
      "1       1\n",
      "2       0\n",
      "3       0\n",
      "4       2\n",
      "       ..\n",
      "8945    0\n",
      "8946    0\n",
      "8947    0\n",
      "8948    0\n",
      "8949    3\n",
      "Name: dbs, Length: 8950, dtype: int64\n"
     ]
    }
   ],
   "source": [
    "db4 = DBSCAN(eps=distances[knee.knee], min_samples=10).fit(DF_pca4)\n",
    "DF_pca4['dbs'] = db4.labels_\n",
    "db_labels_4=DF_pca4['dbs']\n",
    "print(db_labels_4)\n",
    "n_clusters_4 = len(set(db_labels_4)) - (1 if -1 in db_labels_4 else 0)\n",
    "n_noise_4 = list(db_labels_4).count(-1)"
   ]
  },
  {
   "cell_type": "code",
   "execution_count": 140,
   "id": "cf118a40",
   "metadata": {},
   "outputs": [
    {
     "name": "stdout",
     "output_type": "stream",
     "text": [
      "Estimated number of clusters: 7\n",
      "Estimated number of noise points: 438\n"
     ]
    }
   ],
   "source": [
    "print(\"Estimated number of clusters: %d\" % n_clusters_4)\n",
    "print(\"Estimated number of noise points: %d\" % n_noise_4)"
   ]
  },
  {
   "cell_type": "markdown",
   "id": "e9849d6d",
   "metadata": {},
   "source": [
    "## silhouette_score For Four technique"
   ]
  },
  {
   "cell_type": "code",
   "execution_count": 141,
   "id": "aaf49ba3",
   "metadata": {},
   "outputs": [
    {
     "name": "stdout",
     "output_type": "stream",
     "text": [
      "Silhouette Coefficient For Kmeans : 0.791\n",
      "Silhouette Coefficient For Hierarchical : 0.820\n",
      "Silhouette Coefficient For Gaussian Mixtures : 0.820\n",
      "Silhouette Coefficient For DBScan : 0.854\n"
     ]
    }
   ],
   "source": [
    "from sklearn import metrics\n",
    "print(\"Silhouette Coefficient For Kmeans : %0.3f\" % metrics.silhouette_score(DF_pca4,K_labels_4))\n",
    "print(\"Silhouette Coefficient For Hierarchical : %0.3f\" % metrics.silhouette_score(DF_pca4,C_labels_4))\n",
    "print(\"Silhouette Coefficient For Gaussian Mixtures : %0.3f\" % metrics.silhouette_score(DF_pca4,GU_labels_4))\n",
    "print(\"Silhouette Coefficient For DBScan : %0.3f\" % metrics.silhouette_score(DF_pca4,db_labels_4))"
   ]
  },
  {
   "cell_type": "markdown",
   "id": "2f74f8fe",
   "metadata": {},
   "source": [
    "## PCA n_components=5"
   ]
  },
  {
   "cell_type": "code",
   "execution_count": 142,
   "id": "a5e55b26",
   "metadata": {},
   "outputs": [
    {
     "data": {
      "text/html": [
       "<div>\n",
       "<style scoped>\n",
       "    .dataframe tbody tr th:only-of-type {\n",
       "        vertical-align: middle;\n",
       "    }\n",
       "\n",
       "    .dataframe tbody tr th {\n",
       "        vertical-align: top;\n",
       "    }\n",
       "\n",
       "    .dataframe thead th {\n",
       "        text-align: right;\n",
       "    }\n",
       "</style>\n",
       "<table border=\"1\" class=\"dataframe\">\n",
       "  <thead>\n",
       "    <tr style=\"text-align: right;\">\n",
       "      <th></th>\n",
       "      <th>0</th>\n",
       "      <th>1</th>\n",
       "      <th>2</th>\n",
       "      <th>3</th>\n",
       "      <th>4</th>\n",
       "    </tr>\n",
       "  </thead>\n",
       "  <tbody>\n",
       "    <tr>\n",
       "      <th>0</th>\n",
       "      <td>-0.315267</td>\n",
       "      <td>-0.041609</td>\n",
       "      <td>0.027724</td>\n",
       "      <td>0.139935</td>\n",
       "      <td>-0.007226</td>\n",
       "    </tr>\n",
       "    <tr>\n",
       "      <th>1</th>\n",
       "      <td>0.318365</td>\n",
       "      <td>-0.161007</td>\n",
       "      <td>0.365700</td>\n",
       "      <td>-0.042647</td>\n",
       "      <td>0.058598</td>\n",
       "    </tr>\n",
       "    <tr>\n",
       "      <th>2</th>\n",
       "      <td>-0.207153</td>\n",
       "      <td>-0.180748</td>\n",
       "      <td>-0.127354</td>\n",
       "      <td>-0.067867</td>\n",
       "      <td>-0.067249</td>\n",
       "    </tr>\n",
       "    <tr>\n",
       "      <th>3</th>\n",
       "      <td>-0.291843</td>\n",
       "      <td>-0.113087</td>\n",
       "      <td>-0.113674</td>\n",
       "      <td>-0.154760</td>\n",
       "      <td>0.053496</td>\n",
       "    </tr>\n",
       "    <tr>\n",
       "      <th>4</th>\n",
       "      <td>0.142319</td>\n",
       "      <td>-0.090890</td>\n",
       "      <td>-0.100240</td>\n",
       "      <td>0.069771</td>\n",
       "      <td>-0.313983</td>\n",
       "    </tr>\n",
       "    <tr>\n",
       "      <th>...</th>\n",
       "      <td>...</td>\n",
       "      <td>...</td>\n",
       "      <td>...</td>\n",
       "      <td>...</td>\n",
       "      <td>...</td>\n",
       "    </tr>\n",
       "    <tr>\n",
       "      <th>8945</th>\n",
       "      <td>-0.287758</td>\n",
       "      <td>0.168050</td>\n",
       "      <td>0.037791</td>\n",
       "      <td>0.069282</td>\n",
       "      <td>-0.006266</td>\n",
       "    </tr>\n",
       "    <tr>\n",
       "      <th>8946</th>\n",
       "      <td>-0.228783</td>\n",
       "      <td>0.138443</td>\n",
       "      <td>-0.068374</td>\n",
       "      <td>0.193123</td>\n",
       "      <td>0.111598</td>\n",
       "    </tr>\n",
       "    <tr>\n",
       "      <th>8947</th>\n",
       "      <td>-0.387086</td>\n",
       "      <td>-0.057507</td>\n",
       "      <td>-0.002314</td>\n",
       "      <td>0.075588</td>\n",
       "      <td>0.065658</td>\n",
       "    </tr>\n",
       "    <tr>\n",
       "      <th>8948</th>\n",
       "      <td>-0.331979</td>\n",
       "      <td>-0.177041</td>\n",
       "      <td>0.090708</td>\n",
       "      <td>0.118397</td>\n",
       "      <td>0.034254</td>\n",
       "    </tr>\n",
       "    <tr>\n",
       "      <th>8949</th>\n",
       "      <td>-0.086644</td>\n",
       "      <td>0.307385</td>\n",
       "      <td>-0.240947</td>\n",
       "      <td>-0.413048</td>\n",
       "      <td>0.278885</td>\n",
       "    </tr>\n",
       "  </tbody>\n",
       "</table>\n",
       "<p>8950 rows × 5 columns</p>\n",
       "</div>"
      ],
      "text/plain": [
       "             0         1         2         3         4\n",
       "0    -0.315267 -0.041609  0.027724  0.139935 -0.007226\n",
       "1     0.318365 -0.161007  0.365700 -0.042647  0.058598\n",
       "2    -0.207153 -0.180748 -0.127354 -0.067867 -0.067249\n",
       "3    -0.291843 -0.113087 -0.113674 -0.154760  0.053496\n",
       "4     0.142319 -0.090890 -0.100240  0.069771 -0.313983\n",
       "...        ...       ...       ...       ...       ...\n",
       "8945 -0.287758  0.168050  0.037791  0.069282 -0.006266\n",
       "8946 -0.228783  0.138443 -0.068374  0.193123  0.111598\n",
       "8947 -0.387086 -0.057507 -0.002314  0.075588  0.065658\n",
       "8948 -0.331979 -0.177041  0.090708  0.118397  0.034254\n",
       "8949 -0.086644  0.307385 -0.240947 -0.413048  0.278885\n",
       "\n",
       "[8950 rows x 5 columns]"
      ]
     },
     "execution_count": 142,
     "metadata": {},
     "output_type": "execute_result"
    }
   ],
   "source": [
    "from sklearn.decomposition import PCA\n",
    "pca5 = PCA(n_components=5).fit_transform(df_normalized)\n",
    "DF_pca5 = pd.DataFrame(pca5)\n",
    "DF_pca5"
   ]
  },
  {
   "cell_type": "markdown",
   "id": "696215e6",
   "metadata": {},
   "source": [
    "## KMeans"
   ]
  },
  {
   "cell_type": "markdown",
   "id": "7dee4a19",
   "metadata": {},
   "source": [
    "## Choose K"
   ]
  },
  {
   "cell_type": "code",
   "execution_count": 143,
   "id": "ed48ea2d",
   "metadata": {},
   "outputs": [
    {
     "data": {
      "image/png": "[encoded data removed]",
      "text/plain": [
       "<Figure size 432x288 with 2 Axes>"
      ]
     },
     "metadata": {},
     "output_type": "display_data"
    },
    {
     "data": {
      "text/plain": [
       "<AxesSubplot:title={'center':'Distortion Score Elbow for KMeans Clustering'}, xlabel='k', ylabel='distortion score'>"
      ]
     },
     "execution_count": 143,
     "metadata": {},
     "output_type": "execute_result"
    }
   ],
   "source": [
    "from yellowbrick.cluster import KElbowVisualizer\n",
    "model = KMeans()\n",
    "visualizer = KElbowVisualizer(model, k=(2,10)).fit(DF_pca5)\n",
    "visualizer.show()"
   ]
  },
  {
   "cell_type": "markdown",
   "id": "9b5a5e66",
   "metadata": {},
   "source": [
    "## Applying KMeans"
   ]
  },
  {
   "cell_type": "code",
   "execution_count": 144,
   "id": "3765f418",
   "metadata": {},
   "outputs": [
    {
     "data": {
      "text/plain": [
       "0       0\n",
       "1       3\n",
       "2       0\n",
       "3       0\n",
       "4       1\n",
       "       ..\n",
       "8945    0\n",
       "8946    0\n",
       "8947    0\n",
       "8948    0\n",
       "8949    2\n",
       "Name: Kmeans, Length: 8950, dtype: int32"
      ]
     },
     "execution_count": 144,
     "metadata": {},
     "output_type": "execute_result"
    }
   ],
   "source": [
    "from sklearn.cluster import KMeans\n",
    "kmeans5 = KMeans(n_clusters=4, random_state=0).fit(DF_pca5)\n",
    "DF_pca5['Kmeans'] = kmeans5.labels_\n",
    "K_labels_5=DF_pca5['Kmeans']\n",
    "K_labels_5"
   ]
  },
  {
   "cell_type": "markdown",
   "id": "62d3edca",
   "metadata": {},
   "source": [
    "## Hierarchical"
   ]
  },
  {
   "cell_type": "markdown",
   "id": "5cc73dad",
   "metadata": {},
   "source": [
    "## Choose K"
   ]
  },
  {
   "cell_type": "code",
   "execution_count": 145,
   "id": "f7dba13d",
   "metadata": {},
   "outputs": [
    {
     "data": {
      "image/png": "[encoded data removed]",
      "text/plain": [
       "<Figure size 432x288 with 2 Axes>"
      ]
     },
     "metadata": {},
     "output_type": "display_data"
    },
    {
     "data": {
      "text/plain": [
       "<AxesSubplot:title={'center':'Distortion Score Elbow for AgglomerativeClustering Clustering'}, xlabel='k', ylabel='distortion score'>"
      ]
     },
     "execution_count": 145,
     "metadata": {},
     "output_type": "execute_result"
    }
   ],
   "source": [
    "from sklearn.cluster import AgglomerativeClustering\n",
    "from yellowbrick.cluster import KElbowVisualizer\n",
    "model = AgglomerativeClustering()\n",
    "visualizer = KElbowVisualizer(model, k=(2,10)).fit(DF_pca5)\n",
    "visualizer.show()"
   ]
  },
  {
   "cell_type": "markdown",
   "id": "b22c3b8c",
   "metadata": {},
   "source": [
    "## Applying AgglomerativeClustering"
   ]
  },
  {
   "cell_type": "code",
   "execution_count": 146,
   "id": "499b90ef",
   "metadata": {},
   "outputs": [
    {
     "data": {
      "text/plain": [
       "0       2\n",
       "1       0\n",
       "2       2\n",
       "3       2\n",
       "4       3\n",
       "       ..\n",
       "8945    2\n",
       "8946    2\n",
       "8947    2\n",
       "8948    2\n",
       "8949    1\n",
       "Name: clust, Length: 8950, dtype: int64"
      ]
     },
     "execution_count": 146,
     "metadata": {},
     "output_type": "execute_result"
    }
   ],
   "source": [
    "from sklearn.cluster import AgglomerativeClustering\n",
    "clustering5 = AgglomerativeClustering(n_clusters=5).fit(DF_pca5)\n",
    "DF_pca5['clust'] = clustering5.labels_\n",
    "C_labels_5=DF_pca5['clust'] \n",
    "C_labels_5"
   ]
  },
  {
   "cell_type": "markdown",
   "id": "be4dc2f9",
   "metadata": {},
   "source": [
    "## Gaussian Mixtures"
   ]
  },
  {
   "cell_type": "code",
   "execution_count": 147,
   "id": "071ffb10",
   "metadata": {},
   "outputs": [
    {
     "name": "stdout",
     "output_type": "stream",
     "text": [
      "<class 'pandas.core.frame.DataFrame'>\n",
      "RangeIndex: 8950 entries, 0 to 8949\n",
      "Data columns (total 7 columns):\n",
      " #   Column  Non-Null Count  Dtype  \n",
      "---  ------  --------------  -----  \n",
      " 0   0       8950 non-null   float64\n",
      " 1   1       8950 non-null   float64\n",
      " 2   2       8950 non-null   float64\n",
      " 3   3       8950 non-null   float64\n",
      " 4   4       8950 non-null   float64\n",
      " 5   Kmeans  8950 non-null   int32  \n",
      " 6   clust   8950 non-null   int64  \n",
      "dtypes: float64(5), int32(1), int64(1)\n",
      "memory usage: 454.6 KB\n"
     ]
    }
   ],
   "source": [
    "DF_pca5.info()"
   ]
  },
  {
   "cell_type": "code",
   "execution_count": 148,
   "id": "45be11c4",
   "metadata": {},
   "outputs": [
    {
     "data": {
      "text/plain": [
       "0       4\n",
       "1       1\n",
       "2       0\n",
       "3       0\n",
       "4       3\n",
       "       ..\n",
       "8945    4\n",
       "8946    0\n",
       "8947    4\n",
       "8948    0\n",
       "8949    2\n",
       "Name: Guas, Length: 8950, dtype: int64"
      ]
     },
     "execution_count": 148,
     "metadata": {},
     "output_type": "execute_result"
    }
   ],
   "source": [
    "from sklearn.mixture import GaussianMixture\n",
    "Gaussian5 = GaussianMixture(5).fit(DF_pca5)\n",
    "DF_pca5['Guas'] = Gaussian5.predict(DF_pca5)\n",
    "GU_labels_5=DF_pca5['Guas']\n",
    "GU_labels_5"
   ]
  },
  {
   "cell_type": "markdown",
   "id": "f5c1d3de",
   "metadata": {},
   "source": [
    "## DBScan"
   ]
  },
  {
   "cell_type": "markdown",
   "id": "1bb880ab",
   "metadata": {},
   "source": [
    "## Finding the Optimal value of Epsilon"
   ]
  },
  {
   "cell_type": "code",
   "execution_count": 149,
   "id": "943cb9a9",
   "metadata": {},
   "outputs": [
    {
     "name": "stdout",
     "output_type": "stream",
     "text": [
      "0.13755209869201873\n"
     ]
    }
   ],
   "source": [
    "from sklearn.neighbors import NearestNeighbors\n",
    "from kneed import KneeLocator\n",
    "nearest_neighbors = NearestNeighbors(n_neighbors=11)\n",
    "neighbors = nearest_neighbors.fit(DF_pca5)\n",
    "distances, indices = neighbors.kneighbors(DF_pca5)\n",
    "distances = np.sort(distances[:,10], axis=0)\n",
    "i = np.arange(len(distances))\n",
    "knee = KneeLocator(i, distances, S=1, curve='convex', direction='increasing', interp_method='polynomial')\n",
    "print(distances[knee.knee])"
   ]
  },
  {
   "cell_type": "markdown",
   "id": "e3351084",
   "metadata": {},
   "source": [
    "## Applying DBSCAN "
   ]
  },
  {
   "cell_type": "code",
   "execution_count": 152,
   "id": "66e1d8f1",
   "metadata": {},
   "outputs": [
    {
     "name": "stdout",
     "output_type": "stream",
     "text": [
      "0       0\n",
      "1       1\n",
      "2       2\n",
      "3       2\n",
      "4       3\n",
      "       ..\n",
      "8945    0\n",
      "8946    2\n",
      "8947    0\n",
      "8948    2\n",
      "8949    5\n",
      "Name: dbs, Length: 8950, dtype: int64\n"
     ]
    }
   ],
   "source": [
    "db5 = DBSCAN(eps=distances[knee.knee], min_samples=7).fit(DF_pca5)\n",
    "DF_pca5['dbs'] = db5.labels_\n",
    "db_labels_5=DF_pca5['dbs'] \n",
    "print(db_labels_5)\n",
    "n_clusters_5 = len(set(db_labels_5)) - (1 if -1 in db_labels_5 else 0)\n",
    "n_noise_5 = list(db_labels_5).count(-1)"
   ]
  },
  {
   "cell_type": "code",
   "execution_count": 153,
   "id": "6e67c7fa",
   "metadata": {},
   "outputs": [
    {
     "name": "stdout",
     "output_type": "stream",
     "text": [
      "Estimated number of clusters: 12\n",
      "Estimated number of noise points: 392\n"
     ]
    }
   ],
   "source": [
    "print(\"Estimated number of clusters: %d\" % n_clusters_5)\n",
    "print(\"Estimated number of noise points: %d\" % n_noise_5)"
   ]
  },
  {
   "cell_type": "markdown",
   "id": "2f4a56e7",
   "metadata": {},
   "source": [
    "## silhouette_score For Four technique"
   ]
  },
  {
   "cell_type": "code",
   "execution_count": 154,
   "id": "922d6b84",
   "metadata": {},
   "outputs": [
    {
     "name": "stdout",
     "output_type": "stream",
     "text": [
      "Silhouette Coefficient For Kmeans : 0.585\n",
      "Silhouette Coefficient For Hierarchical : 0.562\n",
      "Silhouette Coefficient For Gaussian Mixtures : 0.787\n",
      "Silhouette Coefficient For DBScan : 0.829\n"
     ]
    }
   ],
   "source": [
    "from sklearn import metrics\n",
    "print(\"Silhouette Coefficient For Kmeans : %0.3f\" % metrics.silhouette_score(DF_pca5,K_labels_5))\n",
    "print(\"Silhouette Coefficient For Hierarchical : %0.3f\" % metrics.silhouette_score(DF_pca5,C_labels_5))\n",
    "print(\"Silhouette Coefficient For Gaussian Mixtures : %0.3f\" % metrics.silhouette_score(DF_pca5,GU_labels_5))\n",
    "print(\"Silhouette Coefficient For DBScan : %0.3f\" % metrics.silhouette_score(DF_pca5,db_labels_5))"
   ]
  },
  {
   "cell_type": "markdown",
   "id": "9234c156",
   "metadata": {},
   "source": [
    "# All Scores"
   ]
  },
  {
   "cell_type": "code",
   "execution_count": 157,
   "id": "ed83e057",
   "metadata": {},
   "outputs": [
    {
     "name": "stdout",
     "output_type": "stream",
     "text": [
      "-------- n_components=3 ------------\n",
      "Silhouette Coefficient For Kmeans : 0.847\n",
      "Silhouette Coefficient For Hierarchical : 0.847\n",
      "Silhouette Coefficient For Gaussian Mixtures : 0.847\n",
      "Silhouette Coefficient For DBScan : 0.853\n",
      "\n",
      "\n",
      "-------- n_components=4 ------------\n",
      "Silhouette Coefficient For Kmeans : 0.791\n",
      "Silhouette Coefficient For Hierarchical : 0.820\n",
      "Silhouette Coefficient For Gaussian Mixtures : 0.820\n",
      "Silhouette Coefficient For DBScan : 0.854\n",
      "\n",
      "\n",
      "-------- n_components=5 ------------\n",
      "Silhouette Coefficient For Kmeans : 0.585\n",
      "Silhouette Coefficient For Hierarchical : 0.562\n",
      "Silhouette Coefficient For Gaussian Mixtures : 0.787\n",
      "Silhouette Coefficient For DBScan : 0.829\n"
     ]
    }
   ],
   "source": [
    "print(\"-------- n_components=3 ------------\")\n",
    "print(\"Silhouette Coefficient For Kmeans : %0.3f\" % metrics.silhouette_score(DF_pca3,K_labels_3))\n",
    "print(\"Silhouette Coefficient For Hierarchical : %0.3f\" % metrics.silhouette_score(DF_pca3,C_labels_3))\n",
    "print(\"Silhouette Coefficient For Gaussian Mixtures : %0.3f\" % metrics.silhouette_score(DF_pca3,GU_labels_3))\n",
    "print(\"Silhouette Coefficient For DBScan : %0.3f\" % metrics.silhouette_score(DF_pca3,db_labels_3))\n",
    "print(\"\\n\")\n",
    "print(\"-------- n_components=4 ------------\")\n",
    "print(\"Silhouette Coefficient For Kmeans : %0.3f\" % metrics.silhouette_score(DF_pca4,K_labels_4))\n",
    "print(\"Silhouette Coefficient For Hierarchical : %0.3f\" % metrics.silhouette_score(DF_pca4,C_labels_4))\n",
    "print(\"Silhouette Coefficient For Gaussian Mixtures : %0.3f\" % metrics.silhouette_score(DF_pca4,GU_labels_4))\n",
    "print(\"Silhouette Coefficient For DBScan : %0.3f\" % metrics.silhouette_score(DF_pca4,db_labels_4))\n",
    "print(\"\\n\")\n",
    "print(\"-------- n_components=5 ------------\")\n",
    "print(\"Silhouette Coefficient For Kmeans : %0.3f\" % metrics.silhouette_score(DF_pca5,K_labels_5))\n",
    "print(\"Silhouette Coefficient For Hierarchical : %0.3f\" % metrics.silhouette_score(DF_pca5,C_labels_5))\n",
    "print(\"Silhouette Coefficient For Gaussian Mixtures : %0.3f\" % metrics.silhouette_score(DF_pca5,GU_labels_5))\n",
    "print(\"Silhouette Coefficient For DBScan : %0.3f\" % metrics.silhouette_score(DF_pca5,db_labels_5))"
   ]
  },
  {
   "cell_type": "code",
   "execution_count": null,
   "id": "b390c64a",
   "metadata": {},
   "outputs": [],
   "source": []
  }
 ],
 "metadata": {
  "kernelspec": {
   "display_name": "Python 3 (ipykernel)",
   "language": "python",
   "name": "python3"
  },
  "language_info": {
   "codemirror_mode": {
    "name": "ipython",
    "version": 3
   },
   "file_extension": ".py",
   "mimetype": "text/x-python",
   "name": "python",
   "nbconvert_exporter": "python",
   "pygments_lexer": "ipython3",
   "version": "3.9.7"
  }
 },
 "nbformat": 4,
 "nbformat_minor": 5
}
